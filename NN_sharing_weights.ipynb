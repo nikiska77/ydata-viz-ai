{
  "cells": [
    {
      "cell_type": "markdown",
      "metadata": {
        "id": "view-in-github",
        "colab_type": "text"
      },
      "source": [
        "<a href=\"https://colab.research.google.com/github/nikiska77/ydata-viz-ai/blob/main/NN_sharing_weights.ipynb\" target=\"_parent\"><img src=\"https://colab.research.google.com/assets/colab-badge.svg\" alt=\"Open In Colab\"/></a>"
      ]
    },
    {
      "cell_type": "markdown",
      "source": [
        "#install packages"
      ],
      "metadata": {
        "id": "gemzh1fLMQbF"
      }
    },
    {
      "cell_type": "code",
      "source": [
        "\n",
        "!pip install wget\n",
        "!pip install -U git+https://github.com/pydicom/pydicom.git\n",
        "#pip install --no-cache-dir git+https://github.com/pydicom/pydicom.git\n",
        "!pip install python-gdcm\n",
        "\n",
        "!pip install torchsummary \n",
        "\n"
      ],
      "metadata": {
        "colab": {
          "base_uri": "https://localhost:8080/"
        },
        "id": "WbCGtqQV1Rtj",
        "outputId": "ba33ac76-3a5f-4941-839a-5f88876608b0"
      },
      "execution_count": 118,
      "outputs": [
        {
          "output_type": "stream",
          "name": "stdout",
          "text": [
            "Requirement already satisfied: torchsummary in /usr/local/lib/python3.7/dist-packages (1.5.1)\n"
          ]
        }
      ]
    },
    {
      "cell_type": "code",
      "source": [
        "import dicom_utils as dcm\n",
        "import Affine3D as affine"
      ],
      "metadata": {
        "id": "4Dbj-djYS9yZ"
      },
      "execution_count": 29,
      "outputs": []
    },
    {
      "cell_type": "code",
      "execution_count": null,
      "metadata": {
        "id": "BOK-xRF0wwQ-"
      },
      "outputs": [],
      "source": [
        "#input_file = \"/Users/boriskefer/Documents/coding/YDATA/2021_2022_main/viz_ai/ydata-viz-ai/YdataDataset.txt\" \n",
        "#data_path = \"/Users/boriskefer/Documents/coding/YDATA/2021_2022_main/viz_ai/ydata-viz-ai/data03_01\""
      ]
    },
    {
      "cell_type": "code",
      "source": [
        "#to work from Colab and google disk:\n",
        "from google.colab import drive \n",
        "from pathlib import Path\n",
        "import os\n",
        "\n",
        "drive.mount('/content/drive')\n",
        "\n",
        "home_path = Path(\"/content/drive/MyDrive/VIZ/data/data03_01\")\n",
        "#data_path = os.path.join(home_path, \"data\")\n",
        "#print(data_path)"
      ],
      "metadata": {
        "colab": {
          "base_uri": "https://localhost:8080/"
        },
        "id": "t2wJJnaL1YAl",
        "outputId": "21d8c114-7a64-4761-ebee-b62a9ef2d2c5"
      },
      "execution_count": 31,
      "outputs": [
        {
          "output_type": "stream",
          "name": "stdout",
          "text": [
            "/content/drive/MyDrive/VIZ/data/data03_01/data\n"
          ]
        }
      ]
    },
    {
      "cell_type": "code",
      "source": [
        "import torch\n",
        "import torch.nn as nn\n",
        "import torch.nn.functional as F\n",
        "import torch.optim as optim\n",
        "from torch.optim import lr_scheduler\n",
        "import torchvision\n",
        "import torchvision.transforms as transforms\n",
        "from torchsummary import summary\n",
        "\n",
        "import os\n",
        "import pandas as pd\n",
        "import numpy as np\n",
        "import matplotlib.pyplot as plt\n",
        "from torch.utils.data import Dataset, DataLoader\n",
        "from torchvision.io import read_image\n",
        "from torchvision.utils import make_grid"
      ],
      "metadata": {
        "id": "36mYe5v4MY1D"
      },
      "execution_count": 119,
      "outputs": []
    },
    {
      "cell_type": "markdown",
      "source": [
        "#Model"
      ],
      "metadata": {
        "id": "2fA5q8_YMVBl"
      }
    },
    {
      "cell_type": "code",
      "execution_count": null,
      "metadata": {
        "id": "g8FCRXh0wwQ4"
      },
      "outputs": [],
      "source": [
        "x = torch.rand(1,3,64,64) # input x\n",
        "y = torch.rand(1,3,64,64) # input y\n",
        "cnn = nn.Conv2d(3,10,kernel_size=5) # network\n",
        "input = torch.cat((x,y),dim=0) # stack them batch-wise\n",
        "output = cnn(input) # pass both x and y through the network as a single pass\n",
        "x_out = output[0] # get the output of x\n",
        "y_out = output[1] # get the output of y"
      ]
    },
    {
      "cell_type": "markdown",
      "source": [
        "### Variant 1 (concatenating the input)"
      ],
      "metadata": {
        "id": "BzjKhpWicQhp"
      }
    },
    {
      "cell_type": "code",
      "execution_count": 212,
      "metadata": {
        "id": "wZCAzD0lwwQ9",
        "colab": {
          "base_uri": "https://localhost:8080/",
          "height": 122
        },
        "outputId": "9ce1a3e4-5bf6-44af-d476-c3f0d2ceae39"
      },
      "outputs": [
        {
          "output_type": "execute_result",
          "data": {
            "text/plain": [
              "'\\n        self.transition2 = nn.Sequential(\\n            nn.Conv2d(in_channels=20,out_channels=20,kernel_size=1,stride=1,padding=0),\\n            #(80 - 1 )/1 + 1 \\n            nn.BatchNorm2d(20),\\n            nn.ReLU(inplace=True),\\n            nn.MaxPool2d(kernel_size=2, stride=2, padding=0, dilation=1, ceil_mode=False))\\n        #40\\n        self.transition3 = nn.Sequential(\\n            nn.Conv2d(in_channels=20,out_channels=20,kernel_size=1,stride=1,padding=0),\\n            #(40 - 1 )/1 + 1 \\n            nn.BatchNorm2d(20),            \\n            nn.ReLU(inplace=True),\\n            nn.MaxPool2d(kernel_size=2, stride=2, padding=0, dilation=1, ceil_mode=False))\\n            #20\\n'"
            ],
            "application/vnd.google.colaboratory.intrinsic+json": {
              "type": "string"
            }
          },
          "metadata": {},
          "execution_count": 212
        }
      ],
      "source": [
        "class Our_AirNet(nn.Module):\n",
        "    def __init__(self):\n",
        "        super(Our_AirNet, self).__init__()\n",
        "        self.flatten = nn.Flatten()\n",
        "        self.firstlayer = nn.Sequential(\n",
        "            #how many channels do we have?? \n",
        "            nn.Conv2d(in_channels=20,out_channels=20,kernel_size=3,stride=1,padding=1),\n",
        "            #(320 - 3 + 2*1)/1 + 1 = 320\n",
        "            nn.ReLU(inplace=True),\n",
        "            nn.MaxPool2d(kernel_size=2, stride=2, padding=0, dilation=1, ceil_mode=False))\n",
        "            #(320 - 2)/2 + 1 = 160\n",
        "        self.transition = nn.Sequential(\n",
        "            nn.Conv2d(in_channels=20,out_channels=20,kernel_size=1,stride=1,padding=0),\n",
        "            #(160 - 1 )/1 + 1 \n",
        "            nn.BatchNorm2d(20),\n",
        "            nn.ReLU(inplace=True),\n",
        "            nn.MaxPool2d(kernel_size=2, stride=2, padding=0, dilation=1, ceil_mode=False))\n",
        "            #80\n",
        "        self.regression = nn.Sequential(\n",
        "            #we have to double here because the images will be concatenated\n",
        "            nn.Linear(20*20*20*2, 1024),\n",
        "            #nn.BatchNorm2d(1024),\n",
        "            nn.ReLU(inplace=True),\n",
        "            nn.Linear(1024, 512),\n",
        "           # nn.BatchNorm2d(512),\n",
        "            nn.ReLU(inplace=True),\n",
        "            nn.Linear(512, 128),\n",
        "           # nn.BatchNorm2d(128),\n",
        "            nn.ReLU(inplace=True),\n",
        "            nn.Linear(128, 64),\n",
        "           # nn.BatchNorm2d(64),\n",
        "            nn.ReLU(inplace=True),\n",
        "            nn.Linear(64, 12))    \n",
        "        \n",
        "    def forward(self, x, y):\n",
        "        inp = torch.cat((x,y),dim=0) # stack them batch-wise\n",
        "        inp = self.firstlayer(inp)\n",
        "        inp = self.transition(inp) #80\n",
        "        inp = self.transition(inp) #40\n",
        "        inp = self.transition(inp) #20\n",
        "        input_conc = torch.cat((inp[:x.shape[0]],inp[x.shape[0]:]),dim=1)\n",
        "        input_conc = self.flatten(input_conc)\n",
        "        res = self.regression(input_conc)\n",
        "        return res        \n",
        "\n"
      ]
    },
    {
      "cell_type": "code",
      "source": [
        "model = Our_AirNet()\n",
        "summary(model, (20, 320, 320), batch_size=1)"
      ],
      "metadata": {
        "colab": {
          "base_uri": "https://localhost:8080/"
        },
        "id": "iHI1JBtB8fId",
        "outputId": "d4cad2a5-d71a-4536-d773-d2a8ffc9856f"
      },
      "execution_count": 135,
      "outputs": [
        {
          "output_type": "stream",
          "name": "stdout",
          "text": [
            "----------------------------------------------------------------\n",
            "        Layer (type)               Output Shape         Param #\n",
            "================================================================\n",
            "            Conv2d-1          [1, 20, 320, 320]           3,620\n",
            "              ReLU-2          [1, 20, 320, 320]               0\n",
            "         MaxPool2d-3          [1, 20, 160, 160]               0\n",
            "            Conv2d-4          [1, 20, 160, 160]             420\n",
            "       BatchNorm2d-5          [1, 20, 160, 160]              40\n",
            "              ReLU-6          [1, 20, 160, 160]               0\n",
            "         MaxPool2d-7            [1, 20, 80, 80]               0\n",
            "            Conv2d-8            [1, 20, 80, 80]             420\n",
            "       BatchNorm2d-9            [1, 20, 80, 80]              40\n",
            "             ReLU-10            [1, 20, 80, 80]               0\n",
            "        MaxPool2d-11            [1, 20, 40, 40]               0\n",
            "           Conv2d-12            [1, 20, 40, 40]             420\n",
            "      BatchNorm2d-13            [1, 20, 40, 40]              40\n",
            "             ReLU-14            [1, 20, 40, 40]               0\n",
            "        MaxPool2d-15            [1, 20, 20, 20]               0\n",
            "          Flatten-16                  [1, 8000]               0\n",
            "           Linear-17                  [1, 1024]       8,193,024\n",
            "             ReLU-18                  [1, 1024]               0\n",
            "           Linear-19                   [1, 512]         524,800\n",
            "             ReLU-20                   [1, 512]               0\n",
            "           Linear-21                   [1, 128]          65,664\n",
            "             ReLU-22                   [1, 128]               0\n",
            "           Linear-23                    [1, 64]           8,256\n",
            "             ReLU-24                    [1, 64]               0\n",
            "           Linear-25                     [1, 1]              65\n",
            "================================================================\n",
            "Total params: 8,796,809\n",
            "Trainable params: 8,796,809\n",
            "Non-trainable params: 0\n",
            "----------------------------------------------------------------\n",
            "Input size (MB): 7.81\n",
            "Forward/backward pass size (MB): 51.91\n",
            "Params size (MB): 33.56\n",
            "Estimated Total Size (MB): 93.28\n",
            "----------------------------------------------------------------\n"
          ]
        }
      ]
    },
    {
      "cell_type": "code",
      "source": [
        "a = torch.rand(1,3,5,5) # input a\n",
        "#print(a)\n",
        "b = torch.rand(1,3,5,5) # input b\n",
        "#print(b)\n",
        "c = torch.cat((a,b),dim=0) # stack them batch-wise\n",
        "n=a.shape[0]\n",
        "c.shape\n",
        "d = torch.cat((c[:a.shape[0]],c[a.shape[0]:]),dim=1)\n",
        "d.shape\n",
        "#print(input_conc)\n",
        "c[:a.shape[0]].shape"
      ],
      "metadata": {
        "colab": {
          "base_uri": "https://localhost:8080/"
        },
        "id": "kMzcKQoTeQW_",
        "outputId": "84aab925-ed56-456d-f9f7-6f911da0e314"
      },
      "execution_count": 113,
      "outputs": [
        {
          "output_type": "execute_result",
          "data": {
            "text/plain": [
              "torch.Size([1, 3, 5, 5])"
            ]
          },
          "metadata": {},
          "execution_count": 113
        }
      ]
    },
    {
      "cell_type": "code",
      "execution_count": 192,
      "metadata": {
        "id": "bjC9MK0fwwQ_"
      },
      "outputs": [],
      "source": [
        "def normalize(img, min_val, max_val):\n",
        "    return (img - min_val) / (max_val - min_val)\n",
        "\n",
        "def transform(img):\n",
        "    alpha = np.random.randint(-45, 45)\n",
        "    m = affine.Affine3dRotateCenterMatrix(alpha, img.shape, axis=2)\n",
        "    return affine.affine_transform(img, m), m\n",
        "\n",
        "class Img3dDataSet(Dataset):\n",
        "    def __init__(self, data_path, min_val, max_val):\n",
        "        self.d_path = data_path\n",
        "        self.min_val = min_val\n",
        "        self.max_val = max_val\n",
        "        self.transform = None\n",
        "        self.target_transform = None\n",
        "        names = [f for f in os.listdir(data_path) if f.endswith(\".npz\")]\n",
        "        self.names_array = np.sort(np.array(names))\n",
        "        \n",
        "    def __getitem__(self, idx):\n",
        "        name = self.names_array[idx]\n",
        "        img3d = np.load(os.path.join(self.d_path, name))['I']\n",
        "        img3d = normalize(img3d, self.min_val, self.max_val)\n",
        "        label, matrix = transform(img3d)\n",
        "        matrix = matrix[:3,:]\n",
        "        print(matrix)\n",
        "        label = label.transpose(2, 0, 1)\n",
        "        label = torch.from_numpy(label).float()\n",
        "        #adding this to get the dimensions nedded\n",
        "        img3d = img3d.transpose(2, 0, 1)\n",
        "        #print(img3d.shape , label.shape)\n",
        "        item = torch.from_numpy(img3d).float()\n",
        "        return item, label, matrix\n",
        "    \n",
        "    def __len__(self):\n",
        "        return len(self.names_array)"
      ]
    },
    {
      "cell_type": "code",
      "execution_count": 193,
      "metadata": {
        "id": "eOcq93w8wwRA"
      },
      "outputs": [],
      "source": [
        "dataset = Img3dDataSet(home_path, -1000, 1000)\n",
        "dataloader = DataLoader(dataset, batch_size=1, shuffle=True)"
      ]
    },
    {
      "cell_type": "code",
      "execution_count": 194,
      "metadata": {
        "id": "88X6iI6_wwRB",
        "outputId": "4519e40f-09c9-4fce-c0a0-9dc5a47b4a8f",
        "colab": {
          "base_uri": "https://localhost:8080/"
        }
      },
      "outputs": [
        {
          "output_type": "stream",
          "name": "stdout",
          "text": [
            "[[  0.89879405   0.43837115   0.         -53.946434  ]\n",
            " [ -0.43837115   0.89879405   0.          86.33234   ]\n",
            " [  0.           0.           1.           0.        ]]\n",
            "CPU times: user 937 ms, sys: 9.92 ms, total: 947 ms\n",
            "Wall time: 1.08 s\n"
          ]
        }
      ],
      "source": [
        "%%time\n",
        "x, y, matrix = next(iter(dataloader))"
      ]
    },
    {
      "cell_type": "code",
      "source": [
        "x.shape, y.shape, matrix.shape"
      ],
      "metadata": {
        "colab": {
          "base_uri": "https://localhost:8080/"
        },
        "id": "6cwoVEPVGreP",
        "outputId": "e032e704-2515-481a-f223-b36983519971"
      },
      "execution_count": 186,
      "outputs": [
        {
          "output_type": "execute_result",
          "data": {
            "text/plain": [
              "tensor([[[  0.7880,  -0.6157,   0.0000, 132.4241],\n",
              "         [  0.6157,   0.7880,   0.0000, -64.5876],\n",
              "         [  0.0000,   0.0000,   1.0000,   0.0000],\n",
              "         [  0.0000,   0.0000,   0.0000,   1.0000]]])"
            ]
          },
          "metadata": {},
          "execution_count": 186
        }
      ]
    },
    {
      "cell_type": "code",
      "source": [
        "matrix1 = matrix[:,:3,:]"
      ],
      "metadata": {
        "colab": {
          "base_uri": "https://localhost:8080/"
        },
        "id": "uHu9dBlCIEao",
        "outputId": "ac349b39-6f52-4167-e75e-40956ca4062d"
      },
      "execution_count": 188,
      "outputs": [
        {
          "output_type": "execute_result",
          "data": {
            "text/plain": [
              "tensor([[[  0.7880,  -0.6157,   0.0000, 132.4241],\n",
              "         [  0.6157,   0.7880,   0.0000, -64.5876],\n",
              "         [  0.0000,   0.0000,   1.0000,   0.0000]]])"
            ]
          },
          "metadata": {},
          "execution_count": 188
        }
      ]
    },
    {
      "cell_type": "code",
      "execution_count": 40,
      "metadata": {
        "id": "i7eBwN8ewwRC",
        "outputId": "8414c507-0877-43fa-f1f9-18e98a5e63b6",
        "colab": {
          "base_uri": "https://localhost:8080/",
          "height": 286
        }
      },
      "outputs": [
        {
          "output_type": "execute_result",
          "data": {
            "text/plain": [
              "<matplotlib.image.AxesImage at 0x7f9f627ecc10>"
            ]
          },
          "metadata": {},
          "execution_count": 40
        },
        {
          "output_type": "display_data",
          "data": {
            "text/plain": [
              "<Figure size 432x288 with 1 Axes>"
            ],
            "image/png": "[encoded data removed]"
          },
          "metadata": {
            "needs_background": "light"
          }
        }
      ],
      "source": [
        "plt.imshow(x[0][:,:,10])"
      ]
    },
    {
      "cell_type": "code",
      "execution_count": 41,
      "metadata": {
        "id": "HAsWhP3EwwRD",
        "outputId": "001fc023-3812-4c12-ac3e-b13557912725",
        "colab": {
          "base_uri": "https://localhost:8080/",
          "height": 286
        }
      },
      "outputs": [
        {
          "output_type": "execute_result",
          "data": {
            "text/plain": [
              "<matplotlib.image.AxesImage at 0x7f9f62352c10>"
            ]
          },
          "metadata": {},
          "execution_count": 41
        },
        {
          "output_type": "display_data",
          "data": {
            "text/plain": [
              "<Figure size 432x288 with 1 Axes>"
            ],
            "image/png": "[encoded data removed]"
          },
          "metadata": {
            "needs_background": "light"
          }
        }
      ],
      "source": [
        "plt.imshow(y[0][:,:,10])"
      ]
    },
    {
      "cell_type": "markdown",
      "source": [
        "#Running model"
      ],
      "metadata": {
        "id": "Pb-tzRrd23jO"
      }
    },
    {
      "cell_type": "code",
      "execution_count": 208,
      "metadata": {
        "id": "qkJ5v4gWwwRD"
      },
      "outputs": [],
      "source": [
        "model = Our_AirNet()\n",
        "model.train()\n",
        "criterion = nn.MSELoss(reduction='sum')\n",
        "optimizer = optim.Adam(model.parameters(), lr = 0.005 )\n",
        "scheduler = lr_scheduler.StepLR(optimizer, step_size=15, gamma=0.8)\n",
        "num_epochs = 100"
      ]
    },
    {
      "cell_type": "code",
      "execution_count": 209,
      "metadata": {
        "id": "RA00bOVewwRD",
        "colab": {
          "base_uri": "https://localhost:8080/",
          "height": 1000
        },
        "outputId": "8391c322-17b0-472e-b654-1d4944fac79f"
      },
      "outputs": [
        {
          "output_type": "stream",
          "name": "stderr",
          "text": [
            "/usr/local/lib/python3.7/dist-packages/torch/nn/modules/loss.py:520: UserWarning: Using a target size (torch.Size([12])) that is different to the input size (torch.Size([1, 12])). This will likely lead to incorrect results due to broadcasting. Please ensure they have the same size.\n",
            "  return F.mse_loss(input, target, reduction=self.reduction)\n"
          ]
        },
        {
          "output_type": "stream",
          "name": "stdout",
          "text": [
            "Epoch number 0\n",
            " Current loss 10338.82421875\n",
            "\n",
            "Epoch number 1\n",
            " Current loss 5721.9111328125\n",
            "\n",
            "Epoch number 2\n",
            " Current loss 37452.96875\n",
            "\n",
            "Epoch number 3\n",
            " Current loss 2823.93115234375\n",
            "\n",
            "Epoch number 4\n",
            " Current loss 7033.1787109375\n",
            "\n",
            "Epoch number 5\n",
            " Current loss 7724.96484375\n",
            "\n",
            "Epoch number 6\n",
            " Current loss 6364.59375\n",
            "\n",
            "Epoch number 7\n",
            " Current loss 3148.37451171875\n",
            "\n",
            "Epoch number 8\n",
            " Current loss 3017.333740234375\n",
            "\n",
            "Epoch number 9\n",
            " Current loss 727.8994750976562\n",
            "\n",
            "Epoch number 10\n",
            " Current loss 991.2214965820312\n",
            "\n",
            "Epoch number 11\n",
            " Current loss 854.8193359375\n",
            "\n",
            "Epoch number 12\n",
            " Current loss 295.2047119140625\n",
            "\n",
            "Epoch number 13\n",
            " Current loss 326.9856262207031\n",
            "\n",
            "Epoch number 14\n",
            " Current loss 347.97808837890625\n",
            "\n",
            "Epoch number 15\n",
            " Current loss 297.1258239746094\n",
            "\n",
            "Epoch number 16\n",
            " Current loss 209.65179443359375\n",
            "\n",
            "Epoch number 17\n",
            " Current loss 185.85714721679688\n",
            "\n",
            "Epoch number 18\n",
            " Current loss 149.67311096191406\n",
            "\n",
            "Epoch number 19\n",
            " Current loss 49.76911544799805\n",
            "\n",
            "Epoch number 20\n",
            " Current loss 67.02493286132812\n",
            "\n",
            "Epoch number 21\n",
            " Current loss 74.16804504394531\n",
            "\n",
            "Epoch number 22\n",
            " Current loss 67.5839614868164\n",
            "\n",
            "Epoch number 23\n",
            " Current loss 50.84356689453125\n",
            "\n",
            "Epoch number 24\n",
            " Current loss 47.94340133666992\n",
            "\n",
            "Epoch number 25\n",
            " Current loss 55.54175567626953\n",
            "\n",
            "Epoch number 26\n",
            " Current loss 52.501197814941406\n",
            "\n",
            "Epoch number 27\n",
            " Current loss 36.52486038208008\n",
            "\n",
            "Epoch number 28\n",
            " Current loss 15.408561706542969\n",
            "\n",
            "Epoch number 29\n",
            " Current loss 12.96273422241211\n",
            "\n",
            "Epoch number 30\n",
            " Current loss 18.452756881713867\n",
            "\n",
            "Epoch number 31\n",
            " Current loss 17.353988647460938\n",
            "\n",
            "Epoch number 32\n",
            " Current loss 13.422542572021484\n",
            "\n",
            "Epoch number 33\n",
            " Current loss 11.769309043884277\n",
            "\n",
            "Epoch number 34\n",
            " Current loss 12.163591384887695\n",
            "\n",
            "Epoch number 35\n",
            " Current loss 13.37214183807373\n",
            "\n",
            "Epoch number 36\n",
            " Current loss 11.284228324890137\n",
            "\n",
            "Epoch number 37\n",
            " Current loss 7.9156813621521\n",
            "\n",
            "Epoch number 38\n",
            " Current loss 4.835628986358643\n",
            "\n",
            "Epoch number 39\n",
            " Current loss 3.895066022872925\n",
            "\n",
            "Epoch number 40\n",
            " Current loss 3.9282515048980713\n",
            "\n",
            "Epoch number 41\n",
            " Current loss 4.738685607910156\n",
            "\n",
            "Epoch number 42\n",
            " Current loss 5.465875148773193\n",
            "\n",
            "Epoch number 43\n",
            " Current loss 4.720725059509277\n",
            "\n",
            "Epoch number 44\n",
            " Current loss 3.413783073425293\n",
            "\n",
            "Epoch number 45\n",
            " Current loss 2.321007013320923\n",
            "\n",
            "Epoch number 46\n",
            " Current loss 2.069363832473755\n",
            "\n",
            "Epoch number 47\n",
            " Current loss 2.2022788524627686\n",
            "\n",
            "Epoch number 48\n",
            " Current loss 2.2893877029418945\n",
            "\n",
            "Epoch number 49\n",
            " Current loss 1.8422813415527344\n",
            "\n",
            "Epoch number 50\n",
            " Current loss 1.3826303482055664\n",
            "\n",
            "Epoch number 51\n",
            " Current loss 1.1280362606048584\n",
            "\n",
            "Epoch number 52\n",
            " Current loss 1.1310648918151855\n",
            "\n",
            "Epoch number 53\n",
            " Current loss 1.0571831464767456\n",
            "\n",
            "Epoch number 54\n",
            " Current loss 0.923247218132019\n",
            "\n",
            "Epoch number 55\n",
            " Current loss 0.6616142988204956\n",
            "\n",
            "Epoch number 56\n",
            " Current loss 0.49960872530937195\n",
            "\n",
            "Epoch number 57\n",
            " Current loss 0.42097392678260803\n",
            "\n",
            "Epoch number 58\n",
            " Current loss 0.3728768825531006\n",
            "\n",
            "Epoch number 59\n",
            " Current loss 0.4742746949195862\n",
            "\n",
            "Epoch number 60\n",
            " Current loss 0.5058032870292664\n",
            "\n",
            "Epoch number 61\n",
            " Current loss 0.5189598798751831\n",
            "\n",
            "Epoch number 62\n",
            " Current loss 0.46700596809387207\n",
            "\n",
            "Epoch number 63\n",
            " Current loss 0.3429504632949829\n",
            "\n",
            "Epoch number 64\n",
            " Current loss 0.20900948345661163\n",
            "\n",
            "Epoch number 65\n",
            " Current loss 0.15180978178977966\n",
            "\n",
            "Epoch number 66\n",
            " Current loss 0.107406385242939\n",
            "\n",
            "Epoch number 67\n",
            " Current loss 0.1020965725183487\n",
            "\n",
            "Epoch number 68\n",
            " Current loss 0.08836667984724045\n",
            "\n",
            "Epoch number 69\n",
            " Current loss 0.10596414655447006\n",
            "\n",
            "Epoch number 70\n",
            " Current loss 0.11120736598968506\n",
            "\n",
            "Epoch number 71\n",
            " Current loss 0.12710240483283997\n",
            "\n",
            "Epoch number 72\n",
            " Current loss 0.12628276646137238\n",
            "\n",
            "Epoch number 73\n",
            " Current loss 0.11441405117511749\n",
            "\n",
            "Epoch number 74\n",
            " Current loss 0.10339266061782837\n",
            "\n",
            "Epoch number 75\n",
            " Current loss 0.0831393375992775\n",
            "\n",
            "Epoch number 76\n",
            " Current loss 0.065489262342453\n",
            "\n",
            "Epoch number 77\n",
            " Current loss 0.04453820735216141\n",
            "\n",
            "Epoch number 78\n",
            " Current loss 0.027018731459975243\n",
            "\n",
            "Epoch number 79\n",
            " Current loss 0.020912539213895798\n",
            "\n",
            "Epoch number 80\n",
            " Current loss 0.018363026902079582\n",
            "\n",
            "Epoch number 81\n",
            " Current loss 0.016913482919335365\n",
            "\n",
            "Epoch number 82\n",
            " Current loss 0.021494155749678612\n",
            "\n",
            "Epoch number 83\n",
            " Current loss 0.02653645910322666\n",
            "\n",
            "Epoch number 84\n",
            " Current loss 0.029296420514583588\n",
            "\n",
            "Epoch number 85\n",
            " Current loss 0.031192759051918983\n",
            "\n",
            "Epoch number 86\n",
            " Current loss 0.029699798673391342\n",
            "\n",
            "Epoch number 87\n",
            " Current loss 0.02623184584081173\n",
            "\n",
            "Epoch number 88\n",
            " Current loss 0.021487686783075333\n",
            "\n",
            "Epoch number 89\n",
            " Current loss 0.014309646561741829\n",
            "\n",
            "Epoch number 90\n",
            " Current loss 0.009501048363745213\n",
            "\n",
            "Epoch number 91\n",
            " Current loss 0.00822716485708952\n",
            "\n",
            "Epoch number 92\n",
            " Current loss 0.006959226448088884\n",
            "\n",
            "Epoch number 93\n",
            " Current loss 0.005636072717607021\n",
            "\n",
            "Epoch number 94\n",
            " Current loss 0.004536925815045834\n",
            "\n",
            "Epoch number 95\n",
            " Current loss 0.0035564072895795107\n",
            "\n",
            "Epoch number 96\n",
            " Current loss 0.003567440202459693\n",
            "\n",
            "Epoch number 97\n",
            " Current loss 0.004483758006244898\n",
            "\n",
            "Epoch number 98\n",
            " Current loss 0.00512175215408206\n",
            "\n",
            "Epoch number 99\n",
            " Current loss 0.005612699780613184\n",
            "\n",
            "Best loss 0.0035564072895795107\n"
          ]
        },
        {
          "output_type": "display_data",
          "data": {
            "text/plain": [
              "<Figure size 432x288 with 1 Axes>"
            ],
            "image/png": "[encoded data removed]"
          },
          "metadata": {
            "needs_background": "light"
          }
        }
      ],
      "source": [
        "best_loss = np.inf\n",
        "loss_history = [] \n",
        "#iteration_number= 0\n",
        "\n",
        "# Iterate throught the epochs\n",
        "for epoch in range(num_epochs):\n",
        "\n",
        "    # Iterate over batches\n",
        "#    for i, (img0, img1, label) in enumerate(train_dataloader, 0):\n",
        "\n",
        "        # Send the images and labels to CUDA\n",
        " #       img0, img1, label = img0.cuda(), img1.cuda(), label.cuda()\n",
        "  \n",
        "\n",
        "        # Zero the gradients\n",
        "        optimizer.zero_grad()\n",
        "\n",
        "        # Pass in the two images into the network and obtain two outputs\n",
        "        res = model(x, y)\n",
        "\n",
        "        # Pass the outputs of the networks and label into the loss function\n",
        "        loss = criterion(res, matrix.flatten())\n",
        "        if best_loss > loss:\n",
        "          best_loss = loss\n",
        "        # Calculate the backpropagation\n",
        "        loss.backward()\n",
        "\n",
        "        # Optimize\n",
        "        optimizer.step()\n",
        "        scheduler.step() \n",
        "        # Every 10 batches print out the loss\n",
        "#        if i % 10 == 0 :\n",
        "        print(f\"Epoch number {epoch}\\n Current loss {loss.item()}\\n\")\n",
        "        #iteration_number += 10\n",
        "\n",
        "        loss_history.append(loss.item())\n",
        "print(f'Best loss {best_loss}')\n",
        "\n",
        "plt.plot(range(num_epochs),loss_history)\n",
        "plt.show()\n",
        "#y.shape"
      ]
    },
    {
      "cell_type": "code",
      "source": [
        ""
      ],
      "metadata": {
        "id": "orRgERYAMyxB"
      },
      "execution_count": null,
      "outputs": []
    },
    {
      "cell_type": "code",
      "execution_count": 213,
      "metadata": {
        "id": "zH3A0M96MzBB"
      },
      "outputs": [],
      "source": [
        "model2 = Our_AirNet()\n",
        "model2.train()\n",
        "criterion = nn.MSELoss(reduction='sum')\n",
        "optimizer = optim.Adam(model2.parameters(), lr = 0.005 )\n",
        "scheduler = lr_scheduler.StepLR(optimizer, step_size=15, gamma=0.8)\n",
        "num_epochs = 100"
      ]
    },
    {
      "cell_type": "code",
      "execution_count": 214,
      "metadata": {
        "colab": {
          "base_uri": "https://localhost:8080/",
          "height": 1000
        },
        "outputId": "964666fc-5f40-486e-8251-d33108565995",
        "id": "1_7NrLPUMzBB"
      },
      "outputs": [
        {
          "output_type": "stream",
          "name": "stderr",
          "text": [
            "/usr/local/lib/python3.7/dist-packages/torch/nn/modules/loss.py:520: UserWarning: Using a target size (torch.Size([12])) that is different to the input size (torch.Size([1, 12])). This will likely lead to incorrect results due to broadcasting. Please ensure they have the same size.\n",
            "  return F.mse_loss(input, target, reduction=self.reduction)\n"
          ]
        },
        {
          "output_type": "stream",
          "name": "stdout",
          "text": [
            "Epoch number 0\n",
            " Current loss 10353.98828125\n",
            "\n",
            "Epoch number 1\n",
            " Current loss 6155.484375\n",
            "\n",
            "Epoch number 2\n",
            " Current loss 11612.826171875\n",
            "\n",
            "Epoch number 3\n",
            " Current loss 3658.551513671875\n",
            "\n",
            "Epoch number 4\n",
            " Current loss 5924.97265625\n",
            "\n",
            "Epoch number 5\n",
            " Current loss 4848.150390625\n",
            "\n",
            "Epoch number 6\n",
            " Current loss 2007.4996337890625\n",
            "\n",
            "Epoch number 7\n",
            " Current loss 3782.858642578125\n",
            "\n",
            "Epoch number 8\n",
            " Current loss 430.45941162109375\n",
            "\n",
            "Epoch number 9\n",
            " Current loss 1156.613037109375\n",
            "\n",
            "Epoch number 10\n",
            " Current loss 946.2814331054688\n",
            "\n",
            "Epoch number 11\n",
            " Current loss 227.49412536621094\n",
            "\n",
            "Epoch number 12\n",
            " Current loss 1059.4522705078125\n",
            "\n",
            "Epoch number 13\n",
            " Current loss 131.41661071777344\n",
            "\n",
            "Epoch number 14\n",
            " Current loss 447.1605224609375\n",
            "\n",
            "Epoch number 15\n",
            " Current loss 354.50177001953125\n",
            "\n",
            "Epoch number 16\n",
            " Current loss 127.11165618896484\n",
            "\n",
            "Epoch number 17\n",
            " Current loss 289.667724609375\n",
            "\n",
            "Epoch number 18\n",
            " Current loss 222.00936889648438\n",
            "\n",
            "Epoch number 19\n",
            " Current loss 66.95552062988281\n",
            "\n",
            "Epoch number 20\n",
            " Current loss 156.8846893310547\n",
            "\n",
            "Epoch number 21\n",
            " Current loss 166.4701690673828\n",
            "\n",
            "Epoch number 22\n",
            " Current loss 62.88544464111328\n",
            "\n",
            "Epoch number 23\n",
            " Current loss 82.91072082519531\n",
            "\n",
            "Epoch number 24\n",
            " Current loss 117.50712585449219\n",
            "\n",
            "Epoch number 25\n",
            " Current loss 34.40769958496094\n",
            "\n",
            "Epoch number 26\n",
            " Current loss 66.22370910644531\n",
            "\n",
            "Epoch number 27\n",
            " Current loss 98.3629150390625\n",
            "\n",
            "Epoch number 28\n",
            " Current loss 48.98762512207031\n",
            "\n",
            "Epoch number 29\n",
            " Current loss 41.75912857055664\n",
            "\n",
            "Epoch number 30\n",
            " Current loss 66.87616729736328\n",
            "\n",
            "Epoch number 31\n",
            " Current loss 31.213531494140625\n",
            "\n",
            "Epoch number 32\n",
            " Current loss 11.341386795043945\n",
            "\n",
            "Epoch number 33\n",
            " Current loss 31.1846866607666\n",
            "\n",
            "Epoch number 34\n",
            " Current loss 32.93478775024414\n",
            "\n",
            "Epoch number 35\n",
            " Current loss 12.22331714630127\n",
            "\n",
            "Epoch number 36\n",
            " Current loss 15.508295059204102\n",
            "\n",
            "Epoch number 37\n",
            " Current loss 30.978601455688477\n",
            "\n",
            "Epoch number 38\n",
            " Current loss 19.772336959838867\n",
            "\n",
            "Epoch number 39\n",
            " Current loss 10.683101654052734\n",
            "\n",
            "Epoch number 40\n",
            " Current loss 20.769397735595703\n",
            "\n",
            "Epoch number 41\n",
            " Current loss 19.833820343017578\n",
            "\n",
            "Epoch number 42\n",
            " Current loss 6.569300651550293\n",
            "\n",
            "Epoch number 43\n",
            " Current loss 7.488020896911621\n",
            "\n",
            "Epoch number 44\n",
            " Current loss 13.453383445739746\n",
            "\n",
            "Epoch number 45\n",
            " Current loss 6.047115325927734\n",
            "\n",
            "Epoch number 46\n",
            " Current loss 2.7788639068603516\n",
            "\n",
            "Epoch number 47\n",
            " Current loss 6.863490104675293\n",
            "\n",
            "Epoch number 48\n",
            " Current loss 7.925264835357666\n",
            "\n",
            "Epoch number 49\n",
            " Current loss 3.586256980895996\n",
            "\n",
            "Epoch number 50\n",
            " Current loss 2.8779964447021484\n",
            "\n",
            "Epoch number 51\n",
            " Current loss 6.243515491485596\n",
            "\n",
            "Epoch number 52\n",
            " Current loss 5.507286071777344\n",
            "\n",
            "Epoch number 53\n",
            " Current loss 2.3419973850250244\n",
            "\n",
            "Epoch number 54\n",
            " Current loss 2.9379422664642334\n",
            "\n",
            "Epoch number 55\n",
            " Current loss 4.150586128234863\n",
            "\n",
            "Epoch number 56\n",
            " Current loss 2.023207902908325\n",
            "\n",
            "Epoch number 57\n",
            " Current loss 0.4366685748100281\n",
            "\n",
            "Epoch number 58\n",
            " Current loss 1.8845582008361816\n",
            "\n",
            "Epoch number 59\n",
            " Current loss 2.33363938331604\n",
            "\n",
            "Epoch number 60\n",
            " Current loss 1.0013089179992676\n",
            "\n",
            "Epoch number 61\n",
            " Current loss 1.0427347421646118\n",
            "\n",
            "Epoch number 62\n",
            " Current loss 1.8230228424072266\n",
            "\n",
            "Epoch number 63\n",
            " Current loss 1.631804347038269\n",
            "\n",
            "Epoch number 64\n",
            " Current loss 0.733832061290741\n",
            "\n",
            "Epoch number 65\n",
            " Current loss 0.6303812265396118\n",
            "\n",
            "Epoch number 66\n",
            " Current loss 1.0975087881088257\n",
            "\n",
            "Epoch number 67\n",
            " Current loss 0.8929461240768433\n",
            "\n",
            "Epoch number 68\n",
            " Current loss 0.31458666920661926\n",
            "\n",
            "Epoch number 69\n",
            " Current loss 0.3500264286994934\n",
            "\n",
            "Epoch number 70\n",
            " Current loss 0.6435691118240356\n",
            "\n",
            "Epoch number 71\n",
            " Current loss 0.4427294135093689\n",
            "\n",
            "Epoch number 72\n",
            " Current loss 0.13727764785289764\n",
            "\n",
            "Epoch number 73\n",
            " Current loss 0.30421531200408936\n",
            "\n",
            "Epoch number 74\n",
            " Current loss 0.5204751491546631\n",
            "\n",
            "Epoch number 75\n",
            " Current loss 0.35183584690093994\n",
            "\n",
            "Epoch number 76\n",
            " Current loss 0.20832936465740204\n",
            "\n",
            "Epoch number 77\n",
            " Current loss 0.27416515350341797\n",
            "\n",
            "Epoch number 78\n",
            " Current loss 0.3583545982837677\n",
            "\n",
            "Epoch number 79\n",
            " Current loss 0.2528378963470459\n",
            "\n",
            "Epoch number 80\n",
            " Current loss 0.09780503809452057\n",
            "\n",
            "Epoch number 81\n",
            " Current loss 0.0958123654127121\n",
            "\n",
            "Epoch number 82\n",
            " Current loss 0.16148486733436584\n",
            "\n",
            "Epoch number 83\n",
            " Current loss 0.12104947119951248\n",
            "\n",
            "Epoch number 84\n",
            " Current loss 0.031622786074876785\n",
            "\n",
            "Epoch number 85\n",
            " Current loss 0.04004319757223129\n",
            "\n",
            "Epoch number 86\n",
            " Current loss 0.10729262977838516\n",
            "\n",
            "Epoch number 87\n",
            " Current loss 0.10773158073425293\n",
            "\n",
            "Epoch number 88\n",
            " Current loss 0.061596401035785675\n",
            "\n",
            "Epoch number 89\n",
            " Current loss 0.06733349710702896\n",
            "\n",
            "Epoch number 90\n",
            " Current loss 0.10576397180557251\n",
            "\n",
            "Epoch number 91\n",
            " Current loss 0.09409953653812408\n",
            "\n",
            "Epoch number 92\n",
            " Current loss 0.049152202904224396\n",
            "\n",
            "Epoch number 93\n",
            " Current loss 0.02725958451628685\n",
            "\n",
            "Epoch number 94\n",
            " Current loss 0.039554350078105927\n",
            "\n",
            "Epoch number 95\n",
            " Current loss 0.045755110681056976\n",
            "\n",
            "Epoch number 96\n",
            " Current loss 0.02592214196920395\n",
            "\n",
            "Epoch number 97\n",
            " Current loss 0.007448643911629915\n",
            "\n",
            "Epoch number 98\n",
            " Current loss 0.014012038707733154\n",
            "\n",
            "Epoch number 99\n",
            " Current loss 0.028444994240999222\n",
            "\n",
            "Best loss 0.007448643911629915\n"
          ]
        },
        {
          "output_type": "display_data",
          "data": {
            "text/plain": [
              "<Figure size 432x288 with 1 Axes>"
            ],
            "image/png": "[encoded data removed]"
          },
          "metadata": {
            "needs_background": "light"
          }
        }
      ],
      "source": [
        "best_loss = np.inf\n",
        "loss_history = [] \n",
        "#iteration_number= 0\n",
        "\n",
        "# Iterate throught the epochs\n",
        "for epoch in range(num_epochs):\n",
        "\n",
        "    # Iterate over batches\n",
        "#    for i, (img0, img1, label) in enumerate(train_dataloader, 0):\n",
        "\n",
        "        # Send the images and labels to CUDA\n",
        " #       img0, img1, label = img0.cuda(), img1.cuda(), label.cuda()\n",
        "  \n",
        "\n",
        "        # Zero the gradients\n",
        "        optimizer.zero_grad()\n",
        "\n",
        "        # Pass in the two images into the network and obtain two outputs\n",
        "        res = model2(x, y)\n",
        "\n",
        "        # Pass the outputs of the networks and label into the loss function\n",
        "        loss = criterion(res, matrix.flatten())\n",
        "        if best_loss > loss:\n",
        "          best_loss = loss\n",
        "        # Calculate the backpropagation\n",
        "        loss.backward()\n",
        "\n",
        "        # Optimize\n",
        "        optimizer.step()\n",
        "        scheduler.step() \n",
        "        # Every 10 batches print out the loss\n",
        "#        if i % 10 == 0 :\n",
        "        print(f\"Epoch number {epoch}\\n Current loss {loss.item()}\\n\")\n",
        "        #iteration_number += 10\n",
        "\n",
        "        loss_history.append(loss.item())\n",
        "print(f'Best loss {best_loss}')\n",
        "\n",
        "plt.plot(range(num_epochs),loss_history)\n",
        "plt.show()\n",
        "#y.shape"
      ]
    },
    {
      "cell_type": "code",
      "execution_count": 93,
      "metadata": {
        "id": "c7uenWXJwwRE",
        "colab": {
          "base_uri": "https://localhost:8080/"
        },
        "outputId": "b5e0772f-dae2-4fb6-ee72-476a0ec2750f"
      },
      "outputs": [
        {
          "output_type": "execute_result",
          "data": {
            "text/plain": [
              "torch.Size([1, 20, 320, 320])"
            ]
          },
          "metadata": {},
          "execution_count": 93
        }
      ],
      "source": [
        "x.shape"
      ]
    },
    {
      "cell_type": "markdown",
      "source": [
        "###Variant2 (Siamese network)"
      ],
      "metadata": {
        "id": "dheVNuKtcUvq"
      }
    },
    {
      "cell_type": "code",
      "source": [
        "class Siam_AirNet(nn.Module):\n",
        "    def __init__(self):\n",
        "        super(Siam_AirNet, self).__init__()\n",
        "        self.flatten = nn.Flatten()\n",
        "        self.features = nn.Sequential(\n",
        "            #how many channels do we have?? \n",
        "            nn.Conv2d(in_channels=20,out_channels=20,kernel_size=3,stride=1,padding=1),\n",
        "            #(320 - 3 + 2*1)/1 + 1 = 320\n",
        "            nn.ReLU(inplace=True),\n",
        "            nn.MaxPool2d(kernel_size=2, stride=2, padding=0, dilation=1, ceil_mode=False),\n",
        "            #(320 - 2)/2 + 1 = 160\n",
        "            nn.Conv2d(in_channels=20,out_channels=20,kernel_size=3,stride=1,padding=1),\n",
        "            #160\n",
        "            nn.ReLU(inplace=True),\n",
        "            nn.MaxPool2d(kernel_size=2, stride=2, padding=0, dilation=1, ceil_mode=False),\n",
        "            #80\n",
        "            nn.Conv2d(in_channels=20,out_channels=20,kernel_size=3,stride=1,padding=1),\n",
        "            #80\n",
        "            nn.ReLU(inplace=True),\n",
        "            nn.MaxPool2d(kernel_size=2, stride=2, padding=0, dilation=1, ceil_mode=False),\n",
        "            nn.Conv2d(in_channels=20,out_channels=20,kernel_size=3,stride=1,padding=1),\n",
        "            #40\n",
        "            nn.ReLU(inplace=True),\n",
        "            nn.MaxPool2d(kernel_size=2, stride=2, padding=0, dilation=1, ceil_mode=False),\n",
        "            #20\n",
        "            nn.Conv2d(in_channels=20,out_channels=20,kernel_size=3,stride=1,padding=1),\n",
        "            nn.ReLU(inplace=True),\n",
        "            nn.MaxPool2d(kernel_size=2, stride=2, padding=0, dilation=1, ceil_mode=False))\n",
        "\n",
        "        self.regression = nn.Sequential(\n",
        "            nn.Linear(20*20*20, 1024),\n",
        "            nn.ReLU(inplace=True),\n",
        "            nn.Linear(1024, 512),\n",
        "            nn.ReLU(inplace=True),\n",
        "            nn.Linear(512, 128),\n",
        "            nn.ReLU(inplace=True),\n",
        "            nn.Linear(128, 64),\n",
        "            nn.ReLU(inplace=True),\n",
        "            nn.Linear(64, 1))            \n",
        "\n",
        "    def forward(self, x, y):\n",
        "        inp = torch.cat((x,y),dim=0) # stack them batch-wise\n",
        "        inp = self.firstlayer(inp)\n",
        "        inp = self.transition1(inp)\n",
        "        inp = self.transition2(inp)\n",
        "        inp = self.transition3(inp)\n",
        "        inp = self.transition4(inp)\n",
        "        input_conc = torch.cat((inp[:x.shape[0]],inp[x.shape[0]:]),dim=1)\n",
        "        input_conc = self.flatten(input_conc)\n",
        "        res = self.regression(input_conc)\n",
        "        return res\n",
        "\n",
        "\n",
        "    def forward_once(self, x):\n",
        "        # This function will be called for both images\n",
        "        # Its output is used to determine the similiarity\n",
        "        output = self.cnn1(x)\n",
        "        output = output.view(output.size()[0], -1)\n",
        "        output = self.fc1(output)\n",
        "        return output\n",
        "\n",
        "    def forward(self, input_t, input_ref):\n",
        "        # In this function we pass in both images and obtain both vectors\n",
        "        # which are returned\n",
        "        input_t = self.forward_once(input_t)\n",
        "        input_ref = self.forward_once(input_ref)\n",
        "\n",
        "        return input_t, input_ref"
      ],
      "metadata": {
        "id": "toTK-us-3WzB"
      },
      "execution_count": null,
      "outputs": []
    },
    {
      "cell_type": "code",
      "source": [
        ""
      ],
      "metadata": {
        "id": "zZTazLXI3WsC"
      },
      "execution_count": null,
      "outputs": []
    },
    {
      "cell_type": "code",
      "source": [
        ""
      ],
      "metadata": {
        "id": "I9AyuL4M3Wic"
      },
      "execution_count": null,
      "outputs": []
    },
    {
      "cell_type": "code",
      "execution_count": null,
      "metadata": {
        "id": "-Ltyw5qBwwRE",
        "outputId": "4b8168be-4afb-4bcf-d6e5-8dacf8b424e0"
      },
      "outputs": [
        {
          "data": {
            "text/plain": [
              "torch.Size([16, 320, 320, 1])"
            ]
          },
          "execution_count": 67,
          "metadata": {},
          "output_type": "execute_result"
        }
      ],
      "source": [
        "x[:,:,:,10:11].shape"
      ]
    },
    {
      "cell_type": "code",
      "execution_count": null,
      "metadata": {
        "id": "KJI0KPmFwwRE",
        "outputId": "9cd62592-28c7-4ef8-b708-831b16e16495"
      },
      "outputs": [
        {
          "data": {
            "text/plain": [
              "torch.Size([16, 320, 320, 20])"
            ]
          },
          "execution_count": 52,
          "metadata": {},
          "output_type": "execute_result"
        }
      ],
      "source": [
        "batch = next(iter(dataloader))\n",
        "batch.shape"
      ]
    }
  ],
  "metadata": {
    "colab": {
      "collapsed_sections": [],
      "name": "NN_sharing_weights.ipynb",
      "provenance": [],
      "include_colab_link": true
    },
    "kernelspec": {
      "display_name": "Python 3 (ipykernel)",
      "language": "python",
      "name": "python3"
    },
    "language_info": {
      "codemirror_mode": {
        "name": "ipython",
        "version": 3
      },
      "file_extension": ".py",
      "mimetype": "text/x-python",
      "name": "python",
      "nbconvert_exporter": "python",
      "pygments_lexer": "ipython3",
      "version": "3.8.12"
    }
  },
  "nbformat": 4,
  "nbformat_minor": 0
}