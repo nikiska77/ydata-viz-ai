{
  "cells": [
    {
      "cell_type": "markdown",
      "metadata": {
        "id": "view-in-github",
        "colab_type": "text"
      },
      "source": [
        "<a href=\"https://colab.research.google.com/github/nikiska77/ydata-viz-ai/blob/main/NN_sharing_weights.ipynb\" target=\"_parent\"><img src=\"https://colab.research.google.com/assets/colab-badge.svg\" alt=\"Open In Colab\"/></a>"
      ]
    },
    {
      "cell_type": "markdown",
      "source": [
        "#install packages"
      ],
      "metadata": {
        "id": "gemzh1fLMQbF"
      }
    },
    {
      "cell_type": "code",
      "source": [
        "\n",
        "!pip install wget\n",
        "!pip install -U git+https://github.com/pydicom/pydicom.git\n",
        "#pip install --no-cache-dir git+https://github.com/pydicom/pydicom.git\n",
        "!pip install python-gdcm\n",
        "\n",
        "!pip install torchsummary \n",
        "\n"
      ],
      "metadata": {
        "colab": {
          "base_uri": "https://localhost:8080/"
        },
        "id": "WbCGtqQV1Rtj",
        "outputId": "655bf465-67f4-4e1f-a22c-4ad026bad0d9"
      },
      "execution_count": null,
      "outputs": [
        {
          "output_type": "stream",
          "name": "stdout",
          "text": [
            "Looking in indexes: https://pypi.org/simple, https://us-python.pkg.dev/colab-wheels/public/simple/\n",
            "Collecting wget\n",
            "  Downloading wget-3.2.zip (10 kB)\n",
            "Building wheels for collected packages: wget\n",
            "  Building wheel for wget (setup.py) ... \u001b[?25l\u001b[?25hdone\n",
            "  Created wheel for wget: filename=wget-3.2-py3-none-any.whl size=9675 sha256=c67c67e7ff52eaeb684beb3f73b41a90d553ca6c089b5fbad68cbe4de02ea50f\n",
            "  Stored in directory: /root/.cache/pip/wheels/a1/b6/7c/0e63e34eb06634181c63adacca38b79ff8f35c37e3c13e3c02\n",
            "Successfully built wget\n",
            "Installing collected packages: wget\n",
            "Successfully installed wget-3.2\n",
            "Looking in indexes: https://pypi.org/simple, https://us-python.pkg.dev/colab-wheels/public/simple/\n",
            "Collecting git+https://github.com/pydicom/pydicom.git\n",
            "  Cloning https://github.com/pydicom/pydicom.git to /tmp/pip-req-build-r53uhmds\n",
            "  Running command git clone -q https://github.com/pydicom/pydicom.git /tmp/pip-req-build-r53uhmds\n",
            "Building wheels for collected packages: pydicom\n",
            "  Building wheel for pydicom (setup.py) ... \u001b[?25l\u001b[?25hdone\n",
            "  Created wheel for pydicom: filename=pydicom-2.4.0.dev0-py3-none-any.whl size=1966307 sha256=cff856b87420e8adeb3a45bac53d2d0dabdbdbed4142c4959fd9c35bfb8d216e\n",
            "  Stored in directory: /tmp/pip-ephem-wheel-cache-1q_jg937/wheels/8a/75/6f/a3a81ff6d9eaa04f50d99238b899485b32c5948527a33b243c\n",
            "Successfully built pydicom\n",
            "Installing collected packages: pydicom\n",
            "Successfully installed pydicom-2.4.0.dev0\n",
            "Looking in indexes: https://pypi.org/simple, https://us-python.pkg.dev/colab-wheels/public/simple/\n",
            "Collecting python-gdcm\n",
            "  Downloading python_gdcm-3.0.12-cp37-cp37m-manylinux_2_17_x86_64.manylinux2014_x86_64.whl (12.6 MB)\n",
            "\u001b[K     |████████████████████████████████| 12.6 MB 5.1 MB/s \n",
            "\u001b[?25hInstalling collected packages: python-gdcm\n",
            "Successfully installed python-gdcm-3.0.12\n",
            "Looking in indexes: https://pypi.org/simple, https://us-python.pkg.dev/colab-wheels/public/simple/\n",
            "Requirement already satisfied: torchsummary in /usr/local/lib/python3.7/dist-packages (1.5.1)\n"
          ]
        }
      ]
    },
    {
      "cell_type": "code",
      "source": [
        "import dicom_utils as dcm\n",
        "import Affine3D as affine\n",
        "from scipy.ndimage import affine_transform"
      ],
      "metadata": {
        "id": "4Dbj-djYS9yZ"
      },
      "execution_count": null,
      "outputs": []
    },
    {
      "cell_type": "code",
      "execution_count": null,
      "metadata": {
        "id": "BOK-xRF0wwQ-"
      },
      "outputs": [],
      "source": [
        "#input_file = \"/Users/boriskefer/Documents/coding/YDATA/2021_2022_main/viz_ai/ydata-viz-ai/YdataDataset.txt\" \n",
        "#data_path = \"/Users/boriskefer/Documents/coding/YDATA/2021_2022_main/viz_ai/ydata-viz-ai/data03_01\""
      ]
    },
    {
      "cell_type": "code",
      "source": [
        "#to work from Colab and google disk:\n",
        "from google.colab import drive \n",
        "from pathlib import Path\n",
        "import os\n",
        "\n",
        "drive.mount('/content/drive')\n",
        "\n",
        "home_path = Path(\"/content/drive/MyDrive/VIZ/data/data03_01\")\n",
        "#data_path = os.path.join(home_path, \"data\")\n",
        "#print(data_path)"
      ],
      "metadata": {
        "colab": {
          "base_uri": "https://localhost:8080/"
        },
        "id": "t2wJJnaL1YAl",
        "outputId": "554e364a-62d8-449a-93a8-553f5c7274fd"
      },
      "execution_count": null,
      "outputs": [
        {
          "output_type": "stream",
          "name": "stdout",
          "text": [
            "Mounted at /content/drive\n"
          ]
        }
      ]
    },
    {
      "cell_type": "code",
      "source": [
        "import torch\n",
        "import torch.nn as nn\n",
        "import torch.nn.functional as F\n",
        "import torch.optim as optim\n",
        "from torch.optim import lr_scheduler\n",
        "import torchvision\n",
        "import torchvision.transforms as transforms\n",
        "from torchsummary import summary\n",
        "import copy\n",
        "\n",
        "import os\n",
        "import pandas as pd\n",
        "import numpy as np\n",
        "import matplotlib.pyplot as plt\n",
        "from torch.utils.data import Dataset, DataLoader\n",
        "from torchvision.io import read_image\n",
        "from torchvision.utils import make_grid"
      ],
      "metadata": {
        "id": "36mYe5v4MY1D"
      },
      "execution_count": null,
      "outputs": []
    },
    {
      "cell_type": "markdown",
      "source": [
        "#Model"
      ],
      "metadata": {
        "id": "2fA5q8_YMVBl"
      }
    },
    {
      "cell_type": "code",
      "execution_count": null,
      "metadata": {
        "id": "g8FCRXh0wwQ4"
      },
      "outputs": [],
      "source": [
        "x = torch.rand(1,3,64,64) # input x\n",
        "y = torch.rand(1,3,64,64) # input y\n",
        "cnn = nn.Conv2d(3,10,kernel_size=5) # network\n",
        "input = torch.cat((x,y),dim=0) # stack them batch-wise\n",
        "output = cnn(input) # pass both x and y through the network as a single pass\n",
        "x_out = output[0] # get the output of x\n",
        "y_out = output[1] # get the output of y"
      ]
    },
    {
      "cell_type": "markdown",
      "source": [
        "#Dataset creation (dataloader)"
      ],
      "metadata": {
        "id": "a4FDBNIYSMEJ"
      }
    },
    {
      "cell_type": "code",
      "execution_count": null,
      "metadata": {
        "id": "bjC9MK0fwwQ_"
      },
      "outputs": [],
      "source": [
        "def normalize(img, min_val, max_val):\n",
        "    return (img - min_val) / (max_val - min_val)\n",
        "\n",
        "def transform(img, angle):\n",
        "    m = affine.Affine3dRotateCenterMatrix(angle, img.shape, axis=2)\n",
        "    return affine_transform(img, m), m\n",
        "\n",
        "\n",
        "class Img3dDataSet(Dataset):\n",
        "    def __init__(self, data_path, min_val, max_val):\n",
        "        self.d_path = data_path\n",
        "        self.min_val = min_val\n",
        "        self.max_val = max_val\n",
        "        self.transform = None\n",
        "        self.target_transform = None\n",
        "        names = [f for f in os.listdir(data_path) if f.endswith(\".npz\")]\n",
        "        self.names_array = np.sort(np.array(names))\n",
        "        \n",
        "    def __getitem__(self, idx):\n",
        "        name = self.names_array[idx]\n",
        "        img3d = np.load(os.path.join(self.d_path, name))['I']\n",
        "        img3d = normalize(img3d, self.min_val, self.max_val)\n",
        "        # transform original image twice\n",
        "        alpha1 = np.random.randint(-45, 45)\n",
        "        label, m1 = transform(img3d, alpha1)\n",
        "        alpha2 = np.random.randint(-45, 45)\n",
        "        img3d, m2 = transform(img3d, alpha2)\n",
        "\n",
        "        # find transform matrix from 1st to 2nd\n",
        "        matrix = affine.Affine3dRotateCenterMatrix(alpha2 - alpha1, img3d.shape, axis=2)\n",
        "        matrix = matrix[:3, :]\n",
        "\n",
        "        print(label.shape, matrix.shape)\n",
        "        print(matrix)\n",
        "        #label = label.transpose(2, 0, 1)\n",
        "        label = np.expand_dims(label, axis=0)\n",
        "        label = torch.from_numpy(label).float()\n",
        "        #adding this to get the dimensions nedded\n",
        "        img3d = np.expand_dims(img3d, axis=0)\n",
        "        item = torch.from_numpy(img3d).float()\n",
        "        return item, label, matrix\n",
        "    \n",
        "    def __len__(self):\n",
        "        return len(self.names_array)"
      ]
    },
    {
      "cell_type": "code",
      "execution_count": null,
      "metadata": {
        "id": "eOcq93w8wwRA"
      },
      "outputs": [],
      "source": [
        "dataset = Img3dDataSet(home_path, -1000, 1000)\n",
        "dataloader = DataLoader(dataset, batch_size=1, shuffle=True)"
      ]
    },
    {
      "cell_type": "code",
      "execution_count": null,
      "metadata": {
        "id": "88X6iI6_wwRB",
        "outputId": "6bc9342c-92e7-4a84-e3b0-5cc5cb34ef70",
        "colab": {
          "base_uri": "https://localhost:8080/"
        }
      },
      "outputs": [
        {
          "output_type": "stream",
          "name": "stdout",
          "text": [
            "(320, 320, 20) (3, 4)\n",
            "[[ 1.04528464e-01  9.94521916e-01  0.00000000e+00 -1.58480606e+01]\n",
            " [-9.94521916e-01  1.04528464e-01  0.00000000e+00  3.02398956e+02]\n",
            " [ 0.00000000e+00  0.00000000e+00  1.00000000e+00  0.00000000e+00]]\n",
            "CPU times: user 1.5 s, sys: 5.93 ms, total: 1.51 s\n",
            "Wall time: 1.94 s\n"
          ]
        }
      ],
      "source": [
        "%%time\n",
        "x, y, matrix = next(iter(dataloader))"
      ]
    },
    {
      "cell_type": "code",
      "source": [
        "x.shape, y.shape, matrix.shape"
      ],
      "metadata": {
        "colab": {
          "base_uri": "https://localhost:8080/"
        },
        "id": "6cwoVEPVGreP",
        "outputId": "5005aa69-87bf-4fa2-b86b-60364db33774"
      },
      "execution_count": null,
      "outputs": [
        {
          "output_type": "execute_result",
          "data": {
            "text/plain": [
              "(torch.Size([1, 1, 320, 320, 20]),\n",
              " torch.Size([1, 1, 320, 320, 20]),\n",
              " torch.Size([1, 3, 4]))"
            ]
          },
          "metadata": {},
          "execution_count": 34
        }
      ]
    },
    {
      "cell_type": "code",
      "source": [
        "a = x[:,:,:,:,0]\n",
        "a.shape\n",
        "b = x[0,0,0,0,:]\n",
        "b.shape"
      ],
      "metadata": {
        "colab": {
          "base_uri": "https://localhost:8080/"
        },
        "id": "ykEP1M0MF-c8",
        "outputId": "951cf570-8f72-4ff8-a00f-73354239fda2"
      },
      "execution_count": null,
      "outputs": [
        {
          "output_type": "execute_result",
          "data": {
            "text/plain": [
              "torch.Size([20])"
            ]
          },
          "metadata": {},
          "execution_count": 84
        }
      ]
    },
    {
      "cell_type": "code",
      "source": [
        "matrix1 = matrix[:,:3,:]"
      ],
      "metadata": {
        "colab": {
          "base_uri": "https://localhost:8080/"
        },
        "id": "uHu9dBlCIEao",
        "outputId": "ac349b39-6f52-4167-e75e-40956ca4062d"
      },
      "execution_count": null,
      "outputs": [
        {
          "output_type": "execute_result",
          "data": {
            "text/plain": [
              "tensor([[[  0.7880,  -0.6157,   0.0000, 132.4241],\n",
              "         [  0.6157,   0.7880,   0.0000, -64.5876],\n",
              "         [  0.0000,   0.0000,   1.0000,   0.0000]]])"
            ]
          },
          "metadata": {},
          "execution_count": 188
        }
      ]
    },
    {
      "cell_type": "code",
      "execution_count": null,
      "metadata": {
        "id": "i7eBwN8ewwRC",
        "outputId": "8516d594-5144-4cd0-f301-d7003095ad93",
        "colab": {
          "base_uri": "https://localhost:8080/",
          "height": 286
        }
      },
      "outputs": [
        {
          "output_type": "execute_result",
          "data": {
            "text/plain": [
              "<matplotlib.image.AxesImage at 0x7fd8fc8fe810>"
            ]
          },
          "metadata": {},
          "execution_count": 45
        },
        {
          "output_type": "display_data",
          "data": {
            "text/plain": [
              "<Figure size 432x288 with 1 Axes>"
            ],
            "image/png": "[encoded data removed]"
          },
          "metadata": {
            "needs_background": "light"
          }
        }
      ],
      "source": [
        "#x.shape = x.unsqueeze(0)\n",
        "plt.imshow(x.squeeze()[:,:,10])"
      ]
    },
    {
      "cell_type": "code",
      "execution_count": null,
      "metadata": {
        "id": "HAsWhP3EwwRD",
        "outputId": "2aa4f222-a4e1-456b-baef-31a931e1220d",
        "colab": {
          "base_uri": "https://localhost:8080/",
          "height": 286
        }
      },
      "outputs": [
        {
          "output_type": "execute_result",
          "data": {
            "text/plain": [
              "<matplotlib.image.AxesImage at 0x7fd8fc762c10>"
            ]
          },
          "metadata": {},
          "execution_count": 49
        },
        {
          "output_type": "display_data",
          "data": {
            "text/plain": [
              "<Figure size 432x288 with 1 Axes>"
            ],
            "image/png": "[encoded data removed]"
          },
          "metadata": {
            "needs_background": "light"
          }
        }
      ],
      "source": [
        "#y = y.unsqueeze(0)\n",
        "#y.shape\n",
        "plt.imshow(y.squeeze()[:,:,10])"
      ]
    },
    {
      "cell_type": "markdown",
      "source": [
        "#Running model"
      ],
      "metadata": {
        "id": "Pb-tzRrd23jO"
      }
    },
    {
      "cell_type": "markdown",
      "source": [
        "###Siamese network"
      ],
      "metadata": {
        "id": "dheVNuKtcUvq"
      }
    },
    {
      "cell_type": "markdown",
      "source": [
        "### Last code version"
      ],
      "metadata": {
        "id": "I9A7U7EzSG4c"
      }
    },
    {
      "cell_type": "code",
      "source": [
        "class Dense_Block2D(nn.Module):\n",
        "  def __init__(self, in_channels, growthRate):\n",
        "    super(Dense_Block2D, self).__init__()   \n",
        "    self.bn1 = nn.BatchNorm2d(in_channels)\n",
        "    self.relu = nn.ReLU(inplace = True)\n",
        "    self.conv1 = nn.Conv2d(in_channels = in_channels, out_channels=growthRate, kernel_size = 3, stride = 1, padding = 1)\n",
        "\n",
        "  def forward(self, x):\n",
        "      out = self.conv1(self.relu(self.bn1(x)))\n",
        "      return torch.cat((x, out), 1)\n",
        "\n",
        "class Dense_Block3D(nn.Module):\n",
        "  def __init__(self, in_channels, growthRate):\n",
        "    super(Dense_Block3D, self).__init__()\n",
        "    self.bn1 = nn.BatchNorm3d(in_channels)\n",
        "    self.relu = nn.ReLU(inplace = True)\n",
        "    self.conv1 = nn.Conv3d(in_channels = in_channels, out_channels = growthRate, kernel_size = 3, stride = 1, padding = 1)\n",
        "\n",
        "  def forward(self, x):\n",
        "      out = self.conv1(self.relu(self.bn1(x)))\n",
        "      return torch.cat((x, out), 1)\n",
        "\n",
        "class Transition_Layer2d(nn.Module): \n",
        "  def __init__(self, in_channels, out_channels):\n",
        "    super(Transition_Layer2d, self).__init__() \n",
        "    self.bn = nn.BatchNorm2d(in_channels) \n",
        "    self.relu = nn.ReLU(inplace = True) \n",
        "    self.conv = nn.Conv2d(in_channels = in_channels, out_channels = out_channels, kernel_size = 1, stride=1, padding = 0) \n",
        "    self.max_pool = nn.MaxPool2d(kernel_size=2, stride=2, padding=0)\n",
        "\n",
        "  def forward(self, x): \n",
        "    bn = self.relu(self.bn(x))\n",
        "    out = self.conv(bn) \n",
        "    out = self.max_pool(out) \n",
        "    return out \n",
        "\n",
        "class Transition_Layer3d(nn.Module): \n",
        "  def __init__(self, in_channels, out_channels):\n",
        "    super(Transition_Layer3d, self).__init__() \n",
        "    self.bn = nn.BatchNorm3d(in_channels) \n",
        "    self.relu = nn.ReLU(inplace = True) \n",
        "    self.conv = nn.Conv3d(in_channels = in_channels, out_channels = out_channels, kernel_size = 1, stride=1, padding = 0) \n",
        "    self.max_pool = nn.MaxPool3d(kernel_size=2, stride=2, padding=0)\n",
        "\n",
        "  def forward(self, x): \n",
        "    bn = self.bn(x)\n",
        "    out = self.relu(bn)\n",
        "    out = self.conv(out)\n",
        "    out = self.max_pool(out) \n",
        "    return out \n",
        "\n",
        "\n",
        "\n",
        "class Siam_AirNet2(nn.Module):\n",
        "    def __init__(self, growthRate=8, num_init_features=8, bn_size=1, block_config2D=(1, 2, 4), block_config3D=(8, 16, 32)):\n",
        "        super(Siam_AirNet2, self).__init__()\n",
        "        self.flatten = nn.Flatten()\n",
        "        \n",
        "        self.firstlayer = nn.Sequential(\n",
        "            nn.Conv2d(in_channels=1,out_channels=growthRate,kernel_size=3,stride=1,padding=1), #(320 - 3 + 2*1)/1 + 1 = 320\n",
        "            nn.BatchNorm2d(growthRate), #can't understand should we use here BN or not and if yes - in which order\n",
        "            nn.ReLU(inplace=True),\n",
        "            nn.MaxPool2d(kernel_size=2, stride=2, padding=0)) #(320 - 2)/2 + 1 = 160\n",
        "        self.dense2D = nn.Sequential()\n",
        "        self.dense3D = nn.Sequential()\n",
        "\n",
        "        # Make 2D Dense Blocks and followed by Transition blocks         \n",
        "        for i, num_layers in enumerate(block_config2D):\n",
        "          inChannels = num_layers * growthRate\n",
        "          block = self._make_dense2D(inChannels, growthRate, num_layers)\n",
        "          self.dense2D.add_module('dense2D%d' % (i + 1), block)          \n",
        "          trans = Transition_Layer2d(inChannels + num_layers* growthRate, inChannels+ num_layers* growthRate)\n",
        "          self.dense2D.add_module('trans2D%d' % (i + 1), trans)          \n",
        "        \n",
        "        # Make 3D Dense Blocks and followed by Transition blocks         \n",
        "        for i, num_layers in enumerate(block_config3D):\n",
        "          inChannels= num_layers * growthRate\n",
        "          #num_input_features + i * growth_rate\n",
        "          block = self._make_dense3D(inChannels, growthRate, num_layers)       \n",
        "          self.dense3D.add_module('dense3D%d' % (i + 1), block)                \n",
        "          trans = Transition_Layer3d(inChannels + num_layers* growthRate, inChannels + num_layers* growthRate)\n",
        "          self.dense3D.add_module('trans3D%d' % (i + 1), trans)          \n",
        "\n",
        "        self.regression = nn.Sequential(\n",
        "            nn.Linear(2*2*2*512*2, 1024),  #check the final dimensions\n",
        "#            nn.BatchNorm1d(1024),\n",
        "            nn.ReLU(inplace=True),\n",
        "            nn.Linear(1024, 512),\n",
        " #           nn.BatchNorm1d(512),\n",
        "            nn.ReLU(inplace=True),\n",
        "            nn.Linear(512, 128),\n",
        "  #          nn.BatchNorm1d(128),\n",
        "            nn.ReLU(inplace=True),\n",
        "            nn.Linear(128, 64),\n",
        "   #         nn.BatchNorm1d(64),\n",
        "            nn.ReLU(inplace=True),\n",
        "            nn.Linear(64, 12))   \n",
        "\n",
        "\n",
        "    def _make_dense2D(self, inChannels, growthRate, nDenseBlocks):\n",
        "        layers = []\n",
        "        for i in range(int(nDenseBlocks)):\n",
        "            layers.append(Dense_Block2D(inChannels, growthRate))\n",
        "            inChannels += growthRate\n",
        "        return nn.Sequential(*layers)\n",
        "\n",
        "\n",
        "    def _make_dense3D(self, inChannels, growthRate, nDenseBlocks):\n",
        "        layers = []\n",
        "        for i in range(int(nDenseBlocks)):\n",
        "            layers.append(Dense_Block3D(inChannels, growthRate))\n",
        "            inChannels += growthRate\n",
        "        return nn.Sequential(*layers)\n",
        "\n",
        "\n",
        "\n",
        "    def forward_2D(self, x):\n",
        "        # This function will be called for both images\n",
        "        output = self.firstlayer(x)\n",
        "        #dense block here should be done on the same size (160x160) of FM as in previous layer\n",
        "        output = self.dense2D(output)\n",
        "        #and now we are here.... 3D green part\n",
        "        return output \n",
        "\n",
        "    def forward_3D(self, x):        \n",
        "        output = self.dense3D(x)\n",
        "        #it is expected 2x2x2x512\n",
        "        output = self.flatten(output)        \n",
        "        return output\n",
        "\n",
        "    def forward(self, input_t, input_ref):\n",
        "        # In this function we pass in both images and obtain both vectors\n",
        "        n_batches = input_t.shape[0]\n",
        "        z_dim = 20\n",
        "        x_y_dim = input_t.shape[-2]\n",
        "        input_t = input_t.view(n_batches * z_dim, 1, x_y_dim, x_y_dim)\n",
        "        input_ref = input_ref.view(n_batches * z_dim, 1, x_y_dim, x_y_dim)\n",
        "        x_t = self.forward_2D(input_t)\n",
        "        #print('Shape x_t after 2D ', x_t.shape) #Shape x_t after 2D  torch.Size([20, 64, 20, 20])\n",
        "        x_ref = self.forward_2D(input_ref)\n",
        "        #then concatenate the output for every 20 slices \n",
        "        x_t = x_t.view(n_batches, x_t.shape[1], int(x_t.shape[0]/n_batches), x_t.shape[-2], x_t.shape[-2]) \n",
        "        #print('Shape x_t after reshaping before 3D ', x_t.shape)\n",
        "        x_ref = x_ref.view(n_batches, x_ref.shape[1], int(x_ref.shape[0]/n_batches), x_ref.shape[-2], x_ref.shape[-2]) \n",
        "        x_t = self.forward_3D(x_t)\n",
        "        x_ref = self.forward_3D(x_ref)\n",
        "        #print('x_t and x_ref.shape', x_t.shape, x_ref.shape)\n",
        "        input_conc = torch.cat((x_t,x_ref),dim=1)\n",
        "        #print(input_conc.shape)\n",
        "        res = self.regression(input_conc)\n",
        "        return res \n",
        "\n",
        "\n",
        "\n",
        "'''\n",
        "        for i, num_layers in enumerate(block_config2D):\n",
        "          inChannels= growthRate\n",
        "          #inChannels= num_layers*growthRate\n",
        "          block = self._make_dense2D(inChannels, growthRate, num_layers)\n",
        "          self.dense2D.append(block)          \n",
        "          trans = Transition_Layer2d(inChannels, inChannels)\n",
        "          self.dense2D.append(trans)\n",
        "        \n",
        "        for i, num_layers in enumerate(block_config3D):\n",
        "          inChannels= growthRate\n",
        "          #num_input_features + i * growth_rate\n",
        "          block = self._make_dense3D(inChannels, growthRate, num_layers)       \n",
        "          self.dense3D.append(block)          \n",
        "          tran = Transition_Layer3d(inChannels, inChannels)\n",
        "          self.dense3D.append(tran)          \n",
        "'''"
      ],
      "metadata": {
        "colab": {
          "base_uri": "https://localhost:8080/",
          "height": 122
        },
        "id": "7CU4Poqs6_bf",
        "outputId": "d7c4a6d8-6ddb-47e4-cb05-3a789311d263"
      },
      "execution_count": null,
      "outputs": [
        {
          "output_type": "execute_result",
          "data": {
            "text/plain": [
              "'\\n        for i, num_layers in enumerate(block_config2D):\\n          inChannels= growthRate\\n          #inChannels= num_layers*growthRate\\n          block = self._make_dense2D(inChannels, growthRate, num_layers)\\n          self.dense2D.append(block)          \\n          trans = Transition_Layer2d(inChannels, inChannels)\\n          self.dense2D.append(trans)\\n        \\n        for i, num_layers in enumerate(block_config3D):\\n          inChannels= growthRate\\n          #num_input_features + i * growth_rate\\n          block = self._make_dense3D(inChannels, growthRate, num_layers)       \\n          self.dense3D.append(block)          \\n          tran = Transition_Layer3d(inChannels, inChannels)\\n          self.dense3D.append(tran)          \\n'"
            ],
            "application/vnd.google.colaboratory.intrinsic+json": {
              "type": "string"
            }
          },
          "metadata": {},
          "execution_count": 37
        }
      ]
    },
    {
      "cell_type": "code",
      "source": [
        " model2 = Siam_AirNet2()\n",
        " model2"
      ],
      "metadata": {
        "colab": {
          "base_uri": "https://localhost:8080/"
        },
        "id": "X4TQhN0rDXM8",
        "outputId": "4f818039-d8ac-4e0f-8235-43c5236ca9b9"
      },
      "execution_count": null,
      "outputs": [
        {
          "output_type": "execute_result",
          "data": {
            "text/plain": [
              "Siam_AirNet2(\n",
              "  (flatten): Flatten(start_dim=1, end_dim=-1)\n",
              "  (firstlayer): Sequential(\n",
              "    (0): Conv2d(1, 8, kernel_size=(3, 3), stride=(1, 1), padding=(1, 1))\n",
              "    (1): BatchNorm2d(8, eps=1e-05, momentum=0.1, affine=True, track_running_stats=True)\n",
              "    (2): ReLU(inplace=True)\n",
              "    (3): MaxPool2d(kernel_size=2, stride=2, padding=0, dilation=1, ceil_mode=False)\n",
              "  )\n",
              "  (dense2D): Sequential(\n",
              "    (dense2D1): Sequential(\n",
              "      (0): Dense_Block2D(\n",
              "        (bn1): BatchNorm2d(8, eps=1e-05, momentum=0.1, affine=True, track_running_stats=True)\n",
              "        (relu): ReLU(inplace=True)\n",
              "        (conv1): Conv2d(8, 8, kernel_size=(3, 3), stride=(1, 1), padding=(1, 1))\n",
              "      )\n",
              "    )\n",
              "    (trans2D1): Transition_Layer2d(\n",
              "      (bn): BatchNorm2d(16, eps=1e-05, momentum=0.1, affine=True, track_running_stats=True)\n",
              "      (relu): ReLU(inplace=True)\n",
              "      (conv): Conv2d(16, 16, kernel_size=(1, 1), stride=(1, 1))\n",
              "      (max_pool): MaxPool2d(kernel_size=2, stride=2, padding=0, dilation=1, ceil_mode=False)\n",
              "    )\n",
              "    (dense2D2): Sequential(\n",
              "      (0): Dense_Block2D(\n",
              "        (bn1): BatchNorm2d(16, eps=1e-05, momentum=0.1, affine=True, track_running_stats=True)\n",
              "        (relu): ReLU(inplace=True)\n",
              "        (conv1): Conv2d(16, 8, kernel_size=(3, 3), stride=(1, 1), padding=(1, 1))\n",
              "      )\n",
              "      (1): Dense_Block2D(\n",
              "        (bn1): BatchNorm2d(24, eps=1e-05, momentum=0.1, affine=True, track_running_stats=True)\n",
              "        (relu): ReLU(inplace=True)\n",
              "        (conv1): Conv2d(24, 8, kernel_size=(3, 3), stride=(1, 1), padding=(1, 1))\n",
              "      )\n",
              "    )\n",
              "    (trans2D2): Transition_Layer2d(\n",
              "      (bn): BatchNorm2d(32, eps=1e-05, momentum=0.1, affine=True, track_running_stats=True)\n",
              "      (relu): ReLU(inplace=True)\n",
              "      (conv): Conv2d(32, 32, kernel_size=(1, 1), stride=(1, 1))\n",
              "      (max_pool): MaxPool2d(kernel_size=2, stride=2, padding=0, dilation=1, ceil_mode=False)\n",
              "    )\n",
              "    (dense2D3): Sequential(\n",
              "      (0): Dense_Block2D(\n",
              "        (bn1): BatchNorm2d(32, eps=1e-05, momentum=0.1, affine=True, track_running_stats=True)\n",
              "        (relu): ReLU(inplace=True)\n",
              "        (conv1): Conv2d(32, 8, kernel_size=(3, 3), stride=(1, 1), padding=(1, 1))\n",
              "      )\n",
              "      (1): Dense_Block2D(\n",
              "        (bn1): BatchNorm2d(40, eps=1e-05, momentum=0.1, affine=True, track_running_stats=True)\n",
              "        (relu): ReLU(inplace=True)\n",
              "        (conv1): Conv2d(40, 8, kernel_size=(3, 3), stride=(1, 1), padding=(1, 1))\n",
              "      )\n",
              "      (2): Dense_Block2D(\n",
              "        (bn1): BatchNorm2d(48, eps=1e-05, momentum=0.1, affine=True, track_running_stats=True)\n",
              "        (relu): ReLU(inplace=True)\n",
              "        (conv1): Conv2d(48, 8, kernel_size=(3, 3), stride=(1, 1), padding=(1, 1))\n",
              "      )\n",
              "      (3): Dense_Block2D(\n",
              "        (bn1): BatchNorm2d(56, eps=1e-05, momentum=0.1, affine=True, track_running_stats=True)\n",
              "        (relu): ReLU(inplace=True)\n",
              "        (conv1): Conv2d(56, 8, kernel_size=(3, 3), stride=(1, 1), padding=(1, 1))\n",
              "      )\n",
              "    )\n",
              "    (trans2D3): Transition_Layer2d(\n",
              "      (bn): BatchNorm2d(64, eps=1e-05, momentum=0.1, affine=True, track_running_stats=True)\n",
              "      (relu): ReLU(inplace=True)\n",
              "      (conv): Conv2d(64, 64, kernel_size=(1, 1), stride=(1, 1))\n",
              "      (max_pool): MaxPool2d(kernel_size=2, stride=2, padding=0, dilation=1, ceil_mode=False)\n",
              "    )\n",
              "  )\n",
              "  (dense3D): Sequential(\n",
              "    (dense3D1): Sequential(\n",
              "      (0): Dense_Block3D(\n",
              "        (bn1): BatchNorm3d(64, eps=1e-05, momentum=0.1, affine=True, track_running_stats=True)\n",
              "        (relu): ReLU(inplace=True)\n",
              "        (conv1): Conv3d(64, 8, kernel_size=(3, 3, 3), stride=(1, 1, 1), padding=(1, 1, 1))\n",
              "      )\n",
              "      (1): Dense_Block3D(\n",
              "        (bn1): BatchNorm3d(72, eps=1e-05, momentum=0.1, affine=True, track_running_stats=True)\n",
              "        (relu): ReLU(inplace=True)\n",
              "        (conv1): Conv3d(72, 8, kernel_size=(3, 3, 3), stride=(1, 1, 1), padding=(1, 1, 1))\n",
              "      )\n",
              "      (2): Dense_Block3D(\n",
              "        (bn1): BatchNorm3d(80, eps=1e-05, momentum=0.1, affine=True, track_running_stats=True)\n",
              "        (relu): ReLU(inplace=True)\n",
              "        (conv1): Conv3d(80, 8, kernel_size=(3, 3, 3), stride=(1, 1, 1), padding=(1, 1, 1))\n",
              "      )\n",
              "      (3): Dense_Block3D(\n",
              "        (bn1): BatchNorm3d(88, eps=1e-05, momentum=0.1, affine=True, track_running_stats=True)\n",
              "        (relu): ReLU(inplace=True)\n",
              "        (conv1): Conv3d(88, 8, kernel_size=(3, 3, 3), stride=(1, 1, 1), padding=(1, 1, 1))\n",
              "      )\n",
              "      (4): Dense_Block3D(\n",
              "        (bn1): BatchNorm3d(96, eps=1e-05, momentum=0.1, affine=True, track_running_stats=True)\n",
              "        (relu): ReLU(inplace=True)\n",
              "        (conv1): Conv3d(96, 8, kernel_size=(3, 3, 3), stride=(1, 1, 1), padding=(1, 1, 1))\n",
              "      )\n",
              "      (5): Dense_Block3D(\n",
              "        (bn1): BatchNorm3d(104, eps=1e-05, momentum=0.1, affine=True, track_running_stats=True)\n",
              "        (relu): ReLU(inplace=True)\n",
              "        (conv1): Conv3d(104, 8, kernel_size=(3, 3, 3), stride=(1, 1, 1), padding=(1, 1, 1))\n",
              "      )\n",
              "      (6): Dense_Block3D(\n",
              "        (bn1): BatchNorm3d(112, eps=1e-05, momentum=0.1, affine=True, track_running_stats=True)\n",
              "        (relu): ReLU(inplace=True)\n",
              "        (conv1): Conv3d(112, 8, kernel_size=(3, 3, 3), stride=(1, 1, 1), padding=(1, 1, 1))\n",
              "      )\n",
              "      (7): Dense_Block3D(\n",
              "        (bn1): BatchNorm3d(120, eps=1e-05, momentum=0.1, affine=True, track_running_stats=True)\n",
              "        (relu): ReLU(inplace=True)\n",
              "        (conv1): Conv3d(120, 8, kernel_size=(3, 3, 3), stride=(1, 1, 1), padding=(1, 1, 1))\n",
              "      )\n",
              "    )\n",
              "    (trans3D1): Transition_Layer3d(\n",
              "      (bn): BatchNorm3d(128, eps=1e-05, momentum=0.1, affine=True, track_running_stats=True)\n",
              "      (relu): ReLU(inplace=True)\n",
              "      (conv): Conv3d(128, 128, kernel_size=(1, 1, 1), stride=(1, 1, 1))\n",
              "      (max_pool): MaxPool3d(kernel_size=2, stride=2, padding=0, dilation=1, ceil_mode=False)\n",
              "    )\n",
              "    (dense3D2): Sequential(\n",
              "      (0): Dense_Block3D(\n",
              "        (bn1): BatchNorm3d(128, eps=1e-05, momentum=0.1, affine=True, track_running_stats=True)\n",
              "        (relu): ReLU(inplace=True)\n",
              "        (conv1): Conv3d(128, 8, kernel_size=(3, 3, 3), stride=(1, 1, 1), padding=(1, 1, 1))\n",
              "      )\n",
              "      (1): Dense_Block3D(\n",
              "        (bn1): BatchNorm3d(136, eps=1e-05, momentum=0.1, affine=True, track_running_stats=True)\n",
              "        (relu): ReLU(inplace=True)\n",
              "        (conv1): Conv3d(136, 8, kernel_size=(3, 3, 3), stride=(1, 1, 1), padding=(1, 1, 1))\n",
              "      )\n",
              "      (2): Dense_Block3D(\n",
              "        (bn1): BatchNorm3d(144, eps=1e-05, momentum=0.1, affine=True, track_running_stats=True)\n",
              "        (relu): ReLU(inplace=True)\n",
              "        (conv1): Conv3d(144, 8, kernel_size=(3, 3, 3), stride=(1, 1, 1), padding=(1, 1, 1))\n",
              "      )\n",
              "      (3): Dense_Block3D(\n",
              "        (bn1): BatchNorm3d(152, eps=1e-05, momentum=0.1, affine=True, track_running_stats=True)\n",
              "        (relu): ReLU(inplace=True)\n",
              "        (conv1): Conv3d(152, 8, kernel_size=(3, 3, 3), stride=(1, 1, 1), padding=(1, 1, 1))\n",
              "      )\n",
              "      (4): Dense_Block3D(\n",
              "        (bn1): BatchNorm3d(160, eps=1e-05, momentum=0.1, affine=True, track_running_stats=True)\n",
              "        (relu): ReLU(inplace=True)\n",
              "        (conv1): Conv3d(160, 8, kernel_size=(3, 3, 3), stride=(1, 1, 1), padding=(1, 1, 1))\n",
              "      )\n",
              "      (5): Dense_Block3D(\n",
              "        (bn1): BatchNorm3d(168, eps=1e-05, momentum=0.1, affine=True, track_running_stats=True)\n",
              "        (relu): ReLU(inplace=True)\n",
              "        (conv1): Conv3d(168, 8, kernel_size=(3, 3, 3), stride=(1, 1, 1), padding=(1, 1, 1))\n",
              "      )\n",
              "      (6): Dense_Block3D(\n",
              "        (bn1): BatchNorm3d(176, eps=1e-05, momentum=0.1, affine=True, track_running_stats=True)\n",
              "        (relu): ReLU(inplace=True)\n",
              "        (conv1): Conv3d(176, 8, kernel_size=(3, 3, 3), stride=(1, 1, 1), padding=(1, 1, 1))\n",
              "      )\n",
              "      (7): Dense_Block3D(\n",
              "        (bn1): BatchNorm3d(184, eps=1e-05, momentum=0.1, affine=True, track_running_stats=True)\n",
              "        (relu): ReLU(inplace=True)\n",
              "        (conv1): Conv3d(184, 8, kernel_size=(3, 3, 3), stride=(1, 1, 1), padding=(1, 1, 1))\n",
              "      )\n",
              "      (8): Dense_Block3D(\n",
              "        (bn1): BatchNorm3d(192, eps=1e-05, momentum=0.1, affine=True, track_running_stats=True)\n",
              "        (relu): ReLU(inplace=True)\n",
              "        (conv1): Conv3d(192, 8, kernel_size=(3, 3, 3), stride=(1, 1, 1), padding=(1, 1, 1))\n",
              "      )\n",
              "      (9): Dense_Block3D(\n",
              "        (bn1): BatchNorm3d(200, eps=1e-05, momentum=0.1, affine=True, track_running_stats=True)\n",
              "        (relu): ReLU(inplace=True)\n",
              "        (conv1): Conv3d(200, 8, kernel_size=(3, 3, 3), stride=(1, 1, 1), padding=(1, 1, 1))\n",
              "      )\n",
              "      (10): Dense_Block3D(\n",
              "        (bn1): BatchNorm3d(208, eps=1e-05, momentum=0.1, affine=True, track_running_stats=True)\n",
              "        (relu): ReLU(inplace=True)\n",
              "        (conv1): Conv3d(208, 8, kernel_size=(3, 3, 3), stride=(1, 1, 1), padding=(1, 1, 1))\n",
              "      )\n",
              "      (11): Dense_Block3D(\n",
              "        (bn1): BatchNorm3d(216, eps=1e-05, momentum=0.1, affine=True, track_running_stats=True)\n",
              "        (relu): ReLU(inplace=True)\n",
              "        (conv1): Conv3d(216, 8, kernel_size=(3, 3, 3), stride=(1, 1, 1), padding=(1, 1, 1))\n",
              "      )\n",
              "      (12): Dense_Block3D(\n",
              "        (bn1): BatchNorm3d(224, eps=1e-05, momentum=0.1, affine=True, track_running_stats=True)\n",
              "        (relu): ReLU(inplace=True)\n",
              "        (conv1): Conv3d(224, 8, kernel_size=(3, 3, 3), stride=(1, 1, 1), padding=(1, 1, 1))\n",
              "      )\n",
              "      (13): Dense_Block3D(\n",
              "        (bn1): BatchNorm3d(232, eps=1e-05, momentum=0.1, affine=True, track_running_stats=True)\n",
              "        (relu): ReLU(inplace=True)\n",
              "        (conv1): Conv3d(232, 8, kernel_size=(3, 3, 3), stride=(1, 1, 1), padding=(1, 1, 1))\n",
              "      )\n",
              "      (14): Dense_Block3D(\n",
              "        (bn1): BatchNorm3d(240, eps=1e-05, momentum=0.1, affine=True, track_running_stats=True)\n",
              "        (relu): ReLU(inplace=True)\n",
              "        (conv1): Conv3d(240, 8, kernel_size=(3, 3, 3), stride=(1, 1, 1), padding=(1, 1, 1))\n",
              "      )\n",
              "      (15): Dense_Block3D(\n",
              "        (bn1): BatchNorm3d(248, eps=1e-05, momentum=0.1, affine=True, track_running_stats=True)\n",
              "        (relu): ReLU(inplace=True)\n",
              "        (conv1): Conv3d(248, 8, kernel_size=(3, 3, 3), stride=(1, 1, 1), padding=(1, 1, 1))\n",
              "      )\n",
              "    )\n",
              "    (trans3D2): Transition_Layer3d(\n",
              "      (bn): BatchNorm3d(256, eps=1e-05, momentum=0.1, affine=True, track_running_stats=True)\n",
              "      (relu): ReLU(inplace=True)\n",
              "      (conv): Conv3d(256, 256, kernel_size=(1, 1, 1), stride=(1, 1, 1))\n",
              "      (max_pool): MaxPool3d(kernel_size=2, stride=2, padding=0, dilation=1, ceil_mode=False)\n",
              "    )\n",
              "    (dense3D3): Sequential(\n",
              "      (0): Dense_Block3D(\n",
              "        (bn1): BatchNorm3d(256, eps=1e-05, momentum=0.1, affine=True, track_running_stats=True)\n",
              "        (relu): ReLU(inplace=True)\n",
              "        (conv1): Conv3d(256, 8, kernel_size=(3, 3, 3), stride=(1, 1, 1), padding=(1, 1, 1))\n",
              "      )\n",
              "      (1): Dense_Block3D(\n",
              "        (bn1): BatchNorm3d(264, eps=1e-05, momentum=0.1, affine=True, track_running_stats=True)\n",
              "        (relu): ReLU(inplace=True)\n",
              "        (conv1): Conv3d(264, 8, kernel_size=(3, 3, 3), stride=(1, 1, 1), padding=(1, 1, 1))\n",
              "      )\n",
              "      (2): Dense_Block3D(\n",
              "        (bn1): BatchNorm3d(272, eps=1e-05, momentum=0.1, affine=True, track_running_stats=True)\n",
              "        (relu): ReLU(inplace=True)\n",
              "        (conv1): Conv3d(272, 8, kernel_size=(3, 3, 3), stride=(1, 1, 1), padding=(1, 1, 1))\n",
              "      )\n",
              "      (3): Dense_Block3D(\n",
              "        (bn1): BatchNorm3d(280, eps=1e-05, momentum=0.1, affine=True, track_running_stats=True)\n",
              "        (relu): ReLU(inplace=True)\n",
              "        (conv1): Conv3d(280, 8, kernel_size=(3, 3, 3), stride=(1, 1, 1), padding=(1, 1, 1))\n",
              "      )\n",
              "      (4): Dense_Block3D(\n",
              "        (bn1): BatchNorm3d(288, eps=1e-05, momentum=0.1, affine=True, track_running_stats=True)\n",
              "        (relu): ReLU(inplace=True)\n",
              "        (conv1): Conv3d(288, 8, kernel_size=(3, 3, 3), stride=(1, 1, 1), padding=(1, 1, 1))\n",
              "      )\n",
              "      (5): Dense_Block3D(\n",
              "        (bn1): BatchNorm3d(296, eps=1e-05, momentum=0.1, affine=True, track_running_stats=True)\n",
              "        (relu): ReLU(inplace=True)\n",
              "        (conv1): Conv3d(296, 8, kernel_size=(3, 3, 3), stride=(1, 1, 1), padding=(1, 1, 1))\n",
              "      )\n",
              "      (6): Dense_Block3D(\n",
              "        (bn1): BatchNorm3d(304, eps=1e-05, momentum=0.1, affine=True, track_running_stats=True)\n",
              "        (relu): ReLU(inplace=True)\n",
              "        (conv1): Conv3d(304, 8, kernel_size=(3, 3, 3), stride=(1, 1, 1), padding=(1, 1, 1))\n",
              "      )\n",
              "      (7): Dense_Block3D(\n",
              "        (bn1): BatchNorm3d(312, eps=1e-05, momentum=0.1, affine=True, track_running_stats=True)\n",
              "        (relu): ReLU(inplace=True)\n",
              "        (conv1): Conv3d(312, 8, kernel_size=(3, 3, 3), stride=(1, 1, 1), padding=(1, 1, 1))\n",
              "      )\n",
              "      (8): Dense_Block3D(\n",
              "        (bn1): BatchNorm3d(320, eps=1e-05, momentum=0.1, affine=True, track_running_stats=True)\n",
              "        (relu): ReLU(inplace=True)\n",
              "        (conv1): Conv3d(320, 8, kernel_size=(3, 3, 3), stride=(1, 1, 1), padding=(1, 1, 1))\n",
              "      )\n",
              "      (9): Dense_Block3D(\n",
              "        (bn1): BatchNorm3d(328, eps=1e-05, momentum=0.1, affine=True, track_running_stats=True)\n",
              "        (relu): ReLU(inplace=True)\n",
              "        (conv1): Conv3d(328, 8, kernel_size=(3, 3, 3), stride=(1, 1, 1), padding=(1, 1, 1))\n",
              "      )\n",
              "      (10): Dense_Block3D(\n",
              "        (bn1): BatchNorm3d(336, eps=1e-05, momentum=0.1, affine=True, track_running_stats=True)\n",
              "        (relu): ReLU(inplace=True)\n",
              "        (conv1): Conv3d(336, 8, kernel_size=(3, 3, 3), stride=(1, 1, 1), padding=(1, 1, 1))\n",
              "      )\n",
              "      (11): Dense_Block3D(\n",
              "        (bn1): BatchNorm3d(344, eps=1e-05, momentum=0.1, affine=True, track_running_stats=True)\n",
              "        (relu): ReLU(inplace=True)\n",
              "        (conv1): Conv3d(344, 8, kernel_size=(3, 3, 3), stride=(1, 1, 1), padding=(1, 1, 1))\n",
              "      )\n",
              "      (12): Dense_Block3D(\n",
              "        (bn1): BatchNorm3d(352, eps=1e-05, momentum=0.1, affine=True, track_running_stats=True)\n",
              "        (relu): ReLU(inplace=True)\n",
              "        (conv1): Conv3d(352, 8, kernel_size=(3, 3, 3), stride=(1, 1, 1), padding=(1, 1, 1))\n",
              "      )\n",
              "      (13): Dense_Block3D(\n",
              "        (bn1): BatchNorm3d(360, eps=1e-05, momentum=0.1, affine=True, track_running_stats=True)\n",
              "        (relu): ReLU(inplace=True)\n",
              "        (conv1): Conv3d(360, 8, kernel_size=(3, 3, 3), stride=(1, 1, 1), padding=(1, 1, 1))\n",
              "      )\n",
              "      (14): Dense_Block3D(\n",
              "        (bn1): BatchNorm3d(368, eps=1e-05, momentum=0.1, affine=True, track_running_stats=True)\n",
              "        (relu): ReLU(inplace=True)\n",
              "        (conv1): Conv3d(368, 8, kernel_size=(3, 3, 3), stride=(1, 1, 1), padding=(1, 1, 1))\n",
              "      )\n",
              "      (15): Dense_Block3D(\n",
              "        (bn1): BatchNorm3d(376, eps=1e-05, momentum=0.1, affine=True, track_running_stats=True)\n",
              "        (relu): ReLU(inplace=True)\n",
              "        (conv1): Conv3d(376, 8, kernel_size=(3, 3, 3), stride=(1, 1, 1), padding=(1, 1, 1))\n",
              "      )\n",
              "      (16): Dense_Block3D(\n",
              "        (bn1): BatchNorm3d(384, eps=1e-05, momentum=0.1, affine=True, track_running_stats=True)\n",
              "        (relu): ReLU(inplace=True)\n",
              "        (conv1): Conv3d(384, 8, kernel_size=(3, 3, 3), stride=(1, 1, 1), padding=(1, 1, 1))\n",
              "      )\n",
              "      (17): Dense_Block3D(\n",
              "        (bn1): BatchNorm3d(392, eps=1e-05, momentum=0.1, affine=True, track_running_stats=True)\n",
              "        (relu): ReLU(inplace=True)\n",
              "        (conv1): Conv3d(392, 8, kernel_size=(3, 3, 3), stride=(1, 1, 1), padding=(1, 1, 1))\n",
              "      )\n",
              "      (18): Dense_Block3D(\n",
              "        (bn1): BatchNorm3d(400, eps=1e-05, momentum=0.1, affine=True, track_running_stats=True)\n",
              "        (relu): ReLU(inplace=True)\n",
              "        (conv1): Conv3d(400, 8, kernel_size=(3, 3, 3), stride=(1, 1, 1), padding=(1, 1, 1))\n",
              "      )\n",
              "      (19): Dense_Block3D(\n",
              "        (bn1): BatchNorm3d(408, eps=1e-05, momentum=0.1, affine=True, track_running_stats=True)\n",
              "        (relu): ReLU(inplace=True)\n",
              "        (conv1): Conv3d(408, 8, kernel_size=(3, 3, 3), stride=(1, 1, 1), padding=(1, 1, 1))\n",
              "      )\n",
              "      (20): Dense_Block3D(\n",
              "        (bn1): BatchNorm3d(416, eps=1e-05, momentum=0.1, affine=True, track_running_stats=True)\n",
              "        (relu): ReLU(inplace=True)\n",
              "        (conv1): Conv3d(416, 8, kernel_size=(3, 3, 3), stride=(1, 1, 1), padding=(1, 1, 1))\n",
              "      )\n",
              "      (21): Dense_Block3D(\n",
              "        (bn1): BatchNorm3d(424, eps=1e-05, momentum=0.1, affine=True, track_running_stats=True)\n",
              "        (relu): ReLU(inplace=True)\n",
              "        (conv1): Conv3d(424, 8, kernel_size=(3, 3, 3), stride=(1, 1, 1), padding=(1, 1, 1))\n",
              "      )\n",
              "      (22): Dense_Block3D(\n",
              "        (bn1): BatchNorm3d(432, eps=1e-05, momentum=0.1, affine=True, track_running_stats=True)\n",
              "        (relu): ReLU(inplace=True)\n",
              "        (conv1): Conv3d(432, 8, kernel_size=(3, 3, 3), stride=(1, 1, 1), padding=(1, 1, 1))\n",
              "      )\n",
              "      (23): Dense_Block3D(\n",
              "        (bn1): BatchNorm3d(440, eps=1e-05, momentum=0.1, affine=True, track_running_stats=True)\n",
              "        (relu): ReLU(inplace=True)\n",
              "        (conv1): Conv3d(440, 8, kernel_size=(3, 3, 3), stride=(1, 1, 1), padding=(1, 1, 1))\n",
              "      )\n",
              "      (24): Dense_Block3D(\n",
              "        (bn1): BatchNorm3d(448, eps=1e-05, momentum=0.1, affine=True, track_running_stats=True)\n",
              "        (relu): ReLU(inplace=True)\n",
              "        (conv1): Conv3d(448, 8, kernel_size=(3, 3, 3), stride=(1, 1, 1), padding=(1, 1, 1))\n",
              "      )\n",
              "      (25): Dense_Block3D(\n",
              "        (bn1): BatchNorm3d(456, eps=1e-05, momentum=0.1, affine=True, track_running_stats=True)\n",
              "        (relu): ReLU(inplace=True)\n",
              "        (conv1): Conv3d(456, 8, kernel_size=(3, 3, 3), stride=(1, 1, 1), padding=(1, 1, 1))\n",
              "      )\n",
              "      (26): Dense_Block3D(\n",
              "        (bn1): BatchNorm3d(464, eps=1e-05, momentum=0.1, affine=True, track_running_stats=True)\n",
              "        (relu): ReLU(inplace=True)\n",
              "        (conv1): Conv3d(464, 8, kernel_size=(3, 3, 3), stride=(1, 1, 1), padding=(1, 1, 1))\n",
              "      )\n",
              "      (27): Dense_Block3D(\n",
              "        (bn1): BatchNorm3d(472, eps=1e-05, momentum=0.1, affine=True, track_running_stats=True)\n",
              "        (relu): ReLU(inplace=True)\n",
              "        (conv1): Conv3d(472, 8, kernel_size=(3, 3, 3), stride=(1, 1, 1), padding=(1, 1, 1))\n",
              "      )\n",
              "      (28): Dense_Block3D(\n",
              "        (bn1): BatchNorm3d(480, eps=1e-05, momentum=0.1, affine=True, track_running_stats=True)\n",
              "        (relu): ReLU(inplace=True)\n",
              "        (conv1): Conv3d(480, 8, kernel_size=(3, 3, 3), stride=(1, 1, 1), padding=(1, 1, 1))\n",
              "      )\n",
              "      (29): Dense_Block3D(\n",
              "        (bn1): BatchNorm3d(488, eps=1e-05, momentum=0.1, affine=True, track_running_stats=True)\n",
              "        (relu): ReLU(inplace=True)\n",
              "        (conv1): Conv3d(488, 8, kernel_size=(3, 3, 3), stride=(1, 1, 1), padding=(1, 1, 1))\n",
              "      )\n",
              "      (30): Dense_Block3D(\n",
              "        (bn1): BatchNorm3d(496, eps=1e-05, momentum=0.1, affine=True, track_running_stats=True)\n",
              "        (relu): ReLU(inplace=True)\n",
              "        (conv1): Conv3d(496, 8, kernel_size=(3, 3, 3), stride=(1, 1, 1), padding=(1, 1, 1))\n",
              "      )\n",
              "      (31): Dense_Block3D(\n",
              "        (bn1): BatchNorm3d(504, eps=1e-05, momentum=0.1, affine=True, track_running_stats=True)\n",
              "        (relu): ReLU(inplace=True)\n",
              "        (conv1): Conv3d(504, 8, kernel_size=(3, 3, 3), stride=(1, 1, 1), padding=(1, 1, 1))\n",
              "      )\n",
              "    )\n",
              "    (trans3D3): Transition_Layer3d(\n",
              "      (bn): BatchNorm3d(512, eps=1e-05, momentum=0.1, affine=True, track_running_stats=True)\n",
              "      (relu): ReLU(inplace=True)\n",
              "      (conv): Conv3d(512, 512, kernel_size=(1, 1, 1), stride=(1, 1, 1))\n",
              "      (max_pool): MaxPool3d(kernel_size=2, stride=2, padding=0, dilation=1, ceil_mode=False)\n",
              "    )\n",
              "  )\n",
              "  (regression): Sequential(\n",
              "    (0): Linear(in_features=8192, out_features=1024, bias=True)\n",
              "    (1): ReLU(inplace=True)\n",
              "    (2): Linear(in_features=1024, out_features=512, bias=True)\n",
              "    (3): ReLU(inplace=True)\n",
              "    (4): Linear(in_features=512, out_features=128, bias=True)\n",
              "    (5): ReLU(inplace=True)\n",
              "    (6): Linear(in_features=128, out_features=64, bias=True)\n",
              "    (7): ReLU(inplace=True)\n",
              "    (8): Linear(in_features=64, out_features=12, bias=True)\n",
              "  )\n",
              ")"
            ]
          },
          "metadata": {},
          "execution_count": 38
        }
      ]
    },
    {
      "cell_type": "code",
      "execution_count": null,
      "metadata": {
        "id": "_t3HEBbEcRv6"
      },
      "outputs": [],
      "source": [
        "model2 = Siam_AirNet2()\n",
        "model2.train()\n",
        "criterion = nn.MSELoss(reduction='sum')\n",
        "optimizer = optim.Adam(model2.parameters(), lr = 0.005)\n",
        "scheduler = lr_scheduler.StepLR(optimizer, step_size=15, gamma=0.8)\n",
        "num_epochs = 200\n",
        "\n"
      ]
    },
    {
      "cell_type": "code",
      "source": [
        ""
      ],
      "metadata": {
        "id": "YeD-iuqicRv7"
      },
      "execution_count": null,
      "outputs": []
    },
    {
      "cell_type": "code",
      "execution_count": null,
      "metadata": {
        "colab": {
          "base_uri": "https://localhost:8080/",
          "height": 1000
        },
        "outputId": "0b05976f-4696-4daf-ad83-52d243ae7735",
        "id": "aPStZrM1cRv7"
      },
      "outputs": [
        {
          "output_type": "stream",
          "name": "stderr",
          "text": [
            "/usr/local/lib/python3.7/dist-packages/torch/nn/modules/loss.py:529: UserWarning: Using a target size (torch.Size([12])) that is different to the input size (torch.Size([1, 12])). This will likely lead to incorrect results due to broadcasting. Please ensure they have the same size.\n",
            "  return F.mse_loss(input, target, reduction=self.reduction)\n"
          ]
        },
        {
          "output_type": "stream",
          "name": "stdout",
          "text": [
            "Epoch number 0\n",
            " Current loss 91732.8046875\n",
            "\n",
            "Epoch number 1\n",
            " Current loss 70227.875\n",
            "\n",
            "Epoch number 2\n",
            " Current loss 737651.1875\n",
            "\n",
            "Epoch number 3\n",
            " Current loss 50466.6171875\n",
            "\n",
            "Epoch number 4\n",
            " Current loss 86122.9140625\n",
            "\n",
            "Epoch number 5\n",
            " Current loss 89951.5625\n",
            "\n",
            "Epoch number 6\n",
            " Current loss 77225.046875\n",
            "\n",
            "Epoch number 7\n",
            " Current loss 48177.5625\n",
            "\n",
            "Epoch number 8\n",
            " Current loss 37738.55859375\n",
            "\n",
            "Epoch number 9\n",
            " Current loss 7472.93017578125\n",
            "\n",
            "Epoch number 10\n",
            " Current loss 11029.279296875\n",
            "\n",
            "Epoch number 11\n",
            " Current loss 9826.3369140625\n",
            "\n",
            "Epoch number 12\n",
            " Current loss 3708.105712890625\n",
            "\n",
            "Epoch number 13\n",
            " Current loss 4221.650390625\n",
            "\n",
            "Epoch number 14\n",
            " Current loss 5324.4501953125\n",
            "\n",
            "Epoch number 15\n",
            " Current loss 3962.5302734375\n",
            "\n",
            "Epoch number 16\n",
            " Current loss 2475.63623046875\n",
            "\n",
            "Epoch number 17\n",
            " Current loss 1575.637451171875\n",
            "\n",
            "Epoch number 18\n",
            " Current loss 954.4137573242188\n",
            "\n",
            "Epoch number 19\n",
            " Current loss 1045.124267578125\n",
            "\n",
            "Epoch number 20\n",
            " Current loss 1223.919921875\n",
            "\n",
            "Epoch number 21\n",
            " Current loss 1056.0535888671875\n",
            "\n",
            "Epoch number 22\n",
            " Current loss 919.251953125\n",
            "\n",
            "Epoch number 23\n",
            " Current loss 581.2113037109375\n",
            "\n",
            "Epoch number 24\n",
            " Current loss 267.056640625\n",
            "\n",
            "Epoch number 25\n",
            " Current loss 291.8939208984375\n",
            "\n",
            "Epoch number 26\n",
            " Current loss 368.309814453125\n",
            "\n",
            "Epoch number 27\n",
            " Current loss 359.41845703125\n",
            "\n",
            "Epoch number 28\n",
            " Current loss 350.30767822265625\n",
            "\n",
            "Epoch number 29\n",
            " Current loss 306.3927307128906\n",
            "\n",
            "Epoch number 30\n",
            " Current loss 264.6783142089844\n",
            "\n",
            "Epoch number 31\n",
            " Current loss 230.52488708496094\n",
            "\n",
            "Epoch number 32\n",
            " Current loss 149.7067108154297\n",
            "\n",
            "Epoch number 33\n",
            " Current loss 118.45458984375\n",
            "\n",
            "Epoch number 34\n",
            " Current loss 94.7371597290039\n",
            "\n",
            "Epoch number 35\n",
            " Current loss 100.4375\n",
            "\n",
            "Epoch number 36\n",
            " Current loss 107.93781280517578\n",
            "\n",
            "Epoch number 37\n",
            " Current loss 96.96296691894531\n",
            "\n",
            "Epoch number 38\n",
            " Current loss 102.56869506835938\n",
            "\n",
            "Epoch number 39\n",
            " Current loss 94.5193862915039\n",
            "\n",
            "Epoch number 40\n",
            " Current loss 79.55795288085938\n",
            "\n",
            "Epoch number 41\n",
            " Current loss 70.32745361328125\n",
            "\n",
            "Epoch number 42\n",
            " Current loss 53.54067611694336\n",
            "\n",
            "Epoch number 43\n",
            " Current loss 49.25015640258789\n",
            "\n",
            "Epoch number 44\n",
            " Current loss 50.23664093017578\n",
            "\n",
            "Epoch number 45\n",
            " Current loss 43.22339630126953\n",
            "\n",
            "Epoch number 46\n",
            " Current loss 39.49436950683594\n",
            "\n",
            "Epoch number 47\n",
            " Current loss 31.24940299987793\n",
            "\n",
            "Epoch number 48\n",
            " Current loss 24.391372680664062\n",
            "\n",
            "Epoch number 49\n",
            " Current loss 19.079181671142578\n",
            "\n",
            "Epoch number 50\n",
            " Current loss 14.84937858581543\n",
            "\n",
            "Epoch number 51\n",
            " Current loss 15.705385208129883\n",
            "\n",
            "Epoch number 52\n",
            " Current loss 17.14391326904297\n",
            "\n",
            "Epoch number 53\n",
            " Current loss 21.35764503479004\n",
            "\n",
            "Epoch number 54\n",
            " Current loss 21.463905334472656\n",
            "\n",
            "Epoch number 55\n",
            " Current loss 18.7296142578125\n",
            "\n",
            "Epoch number 56\n",
            " Current loss 13.769120216369629\n",
            "\n",
            "Epoch number 57\n",
            " Current loss 8.41666030883789\n",
            "\n",
            "Epoch number 58\n",
            " Current loss 6.393542289733887\n",
            "\n",
            "Epoch number 59\n",
            " Current loss 5.225496292114258\n",
            "\n",
            "Epoch number 60\n",
            " Current loss 6.034276008605957\n",
            "\n",
            "Epoch number 61\n",
            " Current loss 6.386106014251709\n",
            "\n",
            "Epoch number 62\n",
            " Current loss 6.841463088989258\n",
            "\n",
            "Epoch number 63\n",
            " Current loss 6.751227855682373\n",
            "\n",
            "Epoch number 64\n",
            " Current loss 6.26873254776001\n",
            "\n",
            "Epoch number 65\n",
            " Current loss 5.299594879150391\n",
            "\n",
            "Epoch number 66\n",
            " Current loss 3.9975533485412598\n",
            "\n",
            "Epoch number 67\n",
            " Current loss 3.0824270248413086\n",
            "\n",
            "Epoch number 68\n",
            " Current loss 2.3490726947784424\n",
            "\n",
            "Epoch number 69\n",
            " Current loss 2.3191583156585693\n",
            "\n",
            "Epoch number 70\n",
            " Current loss 2.12677264213562\n",
            "\n",
            "Epoch number 71\n",
            " Current loss 2.2831177711486816\n",
            "\n",
            "Epoch number 72\n",
            " Current loss 2.10225510597229\n",
            "\n",
            "Epoch number 73\n",
            " Current loss 2.1746511459350586\n",
            "\n",
            "Epoch number 74\n",
            " Current loss 1.9659736156463623\n",
            "\n",
            "Epoch number 75\n",
            " Current loss 1.753700613975525\n",
            "\n",
            "Epoch number 76\n",
            " Current loss 1.4009219408035278\n",
            "\n",
            "Epoch number 77\n",
            " Current loss 1.1240696907043457\n",
            "\n",
            "Epoch number 78\n",
            " Current loss 0.8461323380470276\n",
            "\n",
            "Epoch number 79\n",
            " Current loss 0.7964602112770081\n",
            "\n",
            "Epoch number 80\n",
            " Current loss 0.7361693978309631\n",
            "\n",
            "Epoch number 81\n",
            " Current loss 0.7754708528518677\n",
            "\n",
            "Epoch number 82\n",
            " Current loss 0.7004500031471252\n",
            "\n",
            "Epoch number 83\n",
            " Current loss 0.6848068833351135\n",
            "\n",
            "Epoch number 84\n",
            " Current loss 0.6000942587852478\n",
            "\n",
            "Epoch number 85\n",
            " Current loss 0.5878865122795105\n",
            "\n",
            "Epoch number 86\n",
            " Current loss 0.5019655227661133\n",
            "\n",
            "Epoch number 87\n",
            " Current loss 0.4447265565395355\n",
            "\n",
            "Epoch number 88\n",
            " Current loss 0.32660365104675293\n",
            "\n",
            "Epoch number 89\n",
            " Current loss 0.2693236470222473\n",
            "\n",
            "Epoch number 90\n",
            " Current loss 0.21092760562896729\n",
            "\n",
            "Epoch number 91\n",
            " Current loss 0.2103445827960968\n",
            "\n",
            "Epoch number 92\n",
            " Current loss 0.19191333651542664\n",
            "\n",
            "Epoch number 93\n",
            " Current loss 0.19638502597808838\n",
            "\n",
            "Epoch number 94\n",
            " Current loss 0.18047980964183807\n",
            "\n",
            "Epoch number 95\n",
            " Current loss 0.18334713578224182\n",
            "\n",
            "Epoch number 96\n",
            " Current loss 0.17541100084781647\n",
            "\n",
            "Epoch number 97\n",
            " Current loss 0.16960522532463074\n",
            "\n",
            "Epoch number 98\n",
            " Current loss 0.1524219959974289\n",
            "\n",
            "Epoch number 99\n",
            " Current loss 0.1245511919260025\n",
            "\n",
            "Epoch number 100\n",
            " Current loss 0.09817703068256378\n",
            "\n",
            "Epoch number 101\n",
            " Current loss 0.06941868364810944\n",
            "\n",
            "Epoch number 102\n",
            " Current loss 0.05633847787976265\n",
            "\n",
            "Epoch number 103\n",
            " Current loss 0.042694754898548126\n",
            "\n",
            "Epoch number 104\n",
            " Current loss 0.04119027405977249\n",
            "\n",
            "Epoch number 105\n",
            " Current loss 0.03538772091269493\n",
            "\n",
            "Epoch number 106\n",
            " Current loss 0.03671100363135338\n",
            "\n",
            "Epoch number 107\n",
            " Current loss 0.03726890683174133\n",
            "\n",
            "Epoch number 108\n",
            " Current loss 0.03972809761762619\n",
            "\n",
            "Epoch number 109\n",
            " Current loss 0.04366651922464371\n",
            "\n",
            "Epoch number 110\n",
            " Current loss 0.04327325150370598\n",
            "\n",
            "Epoch number 111\n",
            " Current loss 0.041887521743774414\n",
            "\n",
            "Epoch number 112\n",
            " Current loss 0.03508319705724716\n",
            "\n",
            "Epoch number 113\n",
            " Current loss 0.0273699089884758\n",
            "\n",
            "Epoch number 114\n",
            " Current loss 0.01982646808028221\n",
            "\n",
            "Epoch number 115\n",
            " Current loss 0.013172938488423824\n",
            "\n",
            "Epoch number 116\n",
            " Current loss 0.010139414109289646\n",
            "\n",
            "Epoch number 117\n",
            " Current loss 0.00778458546847105\n",
            "\n",
            "Epoch number 118\n",
            " Current loss 0.007969745434820652\n",
            "\n",
            "Epoch number 119\n",
            " Current loss 0.00836945977061987\n",
            "\n",
            "Epoch number 120\n",
            " Current loss 0.009259493090212345\n",
            "\n",
            "Epoch number 121\n",
            " Current loss 0.010019990615546703\n",
            "\n",
            "Epoch number 122\n",
            " Current loss 0.009712954051792622\n",
            "\n",
            "Epoch number 123\n",
            " Current loss 0.009264908730983734\n",
            "\n",
            "Epoch number 124\n",
            " Current loss 0.007946842350065708\n",
            "\n",
            "Epoch number 125\n",
            " Current loss 0.0062446389347314835\n",
            "\n",
            "Epoch number 126\n",
            " Current loss 0.004947296343743801\n",
            "\n",
            "Epoch number 127\n",
            " Current loss 0.0036876455415040255\n",
            "\n",
            "Epoch number 128\n",
            " Current loss 0.00318517885170877\n",
            "\n",
            "Epoch number 129\n",
            " Current loss 0.003175595076754689\n",
            "\n",
            "Epoch number 130\n",
            " Current loss 0.0032107194419950247\n",
            "\n",
            "Epoch number 131\n",
            " Current loss 0.0034826346673071384\n",
            "\n",
            "Epoch number 132\n",
            " Current loss 0.0034156939946115017\n",
            "\n",
            "Epoch number 133\n",
            " Current loss 0.003164734924212098\n",
            "\n",
            "Epoch number 134\n",
            " Current loss 0.002868355717509985\n",
            "\n",
            "Epoch number 135\n",
            " Current loss 0.0023542100097984076\n",
            "\n",
            "Epoch number 136\n",
            " Current loss 0.0020185881294310093\n",
            "\n",
            "Epoch number 137\n",
            " Current loss 0.001672336831688881\n",
            "\n",
            "Epoch number 138\n",
            " Current loss 0.0012739236699417233\n",
            "\n",
            "Epoch number 139\n",
            " Current loss 0.0009776013903319836\n",
            "\n",
            "Epoch number 140\n",
            " Current loss 0.0007303060265257955\n",
            "\n",
            "Epoch number 141\n",
            " Current loss 0.000530492456164211\n",
            "\n",
            "Epoch number 142\n",
            " Current loss 0.0004788669175468385\n",
            "\n",
            "Epoch number 143\n",
            " Current loss 0.00049235625192523\n",
            "\n",
            "Epoch number 144\n",
            " Current loss 0.0005372087471187115\n",
            "\n",
            "Epoch number 145\n",
            " Current loss 0.0006342014530673623\n",
            "\n",
            "Epoch number 146\n",
            " Current loss 0.000684706901665777\n",
            "\n",
            "Epoch number 147\n",
            " Current loss 0.0006840270943939686\n",
            "\n",
            "Epoch number 148\n",
            " Current loss 0.0006657613557763398\n",
            "\n",
            "Epoch number 149\n",
            " Current loss 0.0005922944401390851\n",
            "\n",
            "Epoch number 150\n",
            " Current loss 0.0005046716541983187\n",
            "\n",
            "Epoch number 151\n",
            " Current loss 0.00044257406261749566\n",
            "\n",
            "Epoch number 152\n",
            " Current loss 0.00037079036701470613\n",
            "\n",
            "Epoch number 153\n",
            " Current loss 0.00030238492763601243\n",
            "\n",
            "Epoch number 154\n",
            " Current loss 0.0002514913503546268\n",
            "\n",
            "Epoch number 155\n",
            " Current loss 0.00020344479708001018\n",
            "\n",
            "Epoch number 156\n",
            " Current loss 0.00016174603661056608\n",
            "\n",
            "Epoch number 157\n",
            " Current loss 0.0001370175596093759\n",
            "\n",
            "Epoch number 158\n",
            " Current loss 0.0001204797881655395\n",
            "\n",
            "Epoch number 159\n",
            " Current loss 0.00010631727491272613\n",
            "\n",
            "Epoch number 160\n",
            " Current loss 0.00010183124686591327\n",
            "\n",
            "Epoch number 161\n",
            " Current loss 9.957724978448823e-05\n",
            "\n",
            "Epoch number 162\n",
            " Current loss 9.320169192506e-05\n",
            "\n",
            "Epoch number 163\n",
            " Current loss 8.765881648287177e-05\n",
            "\n",
            "Epoch number 164\n",
            " Current loss 8.2791579188779e-05\n",
            "\n",
            "Epoch number 165\n",
            " Current loss 7.477106555597857e-05\n",
            "\n",
            "Epoch number 166\n",
            " Current loss 6.885172479087487e-05\n",
            "\n",
            "Epoch number 167\n",
            " Current loss 6.458789721364155e-05\n",
            "\n",
            "Epoch number 168\n",
            " Current loss 5.985689494991675e-05\n",
            "\n",
            "Epoch number 169\n",
            " Current loss 5.379057984100655e-05\n",
            "\n",
            "Epoch number 170\n",
            " Current loss 4.859206092078239e-05\n",
            "\n",
            "Epoch number 171\n",
            " Current loss 4.3805641325889155e-05\n",
            "\n",
            "Epoch number 172\n",
            " Current loss 3.726692375494167e-05\n",
            "\n",
            "Epoch number 173\n",
            " Current loss 3.094185012741946e-05\n",
            "\n",
            "Epoch number 174\n",
            " Current loss 2.6006939151557162e-05\n",
            "\n",
            "Epoch number 175\n",
            " Current loss 2.1521133021451533e-05\n",
            "\n",
            "Epoch number 176\n",
            " Current loss 1.7853957615443505e-05\n",
            "\n",
            "Epoch number 177\n",
            " Current loss 1.586161488376092e-05\n",
            "\n",
            "Epoch number 178\n",
            " Current loss 1.5409363186336122e-05\n",
            "\n",
            "Epoch number 179\n",
            " Current loss 1.4933413694961928e-05\n",
            "\n",
            "Epoch number 180\n",
            " Current loss 1.4727896996191703e-05\n",
            "\n",
            "Epoch number 181\n",
            " Current loss 1.4621871741837822e-05\n",
            "\n",
            "Epoch number 182\n",
            " Current loss 1.420294211129658e-05\n",
            "\n",
            "Epoch number 183\n",
            " Current loss 1.311678806814598e-05\n",
            "\n",
            "Epoch number 184\n",
            " Current loss 1.1729738616850227e-05\n",
            "\n",
            "Epoch number 185\n",
            " Current loss 1.0355156518926378e-05\n",
            "\n",
            "Epoch number 186\n",
            " Current loss 8.882791917130817e-06\n",
            "\n",
            "Epoch number 187\n",
            " Current loss 7.3891137617465574e-06\n",
            "\n",
            "Epoch number 188\n",
            " Current loss 6.006679541314952e-06\n",
            "\n",
            "Epoch number 189\n",
            " Current loss 4.959774742019363e-06\n",
            "\n",
            "Epoch number 190\n",
            " Current loss 4.055609224451473e-06\n",
            "\n",
            "Epoch number 191\n",
            " Current loss 3.29535123455571e-06\n",
            "\n",
            "Epoch number 192\n",
            " Current loss 2.6575380616122857e-06\n",
            "\n",
            "Epoch number 193\n",
            " Current loss 2.252897729704273e-06\n",
            "\n",
            "Epoch number 194\n",
            " Current loss 1.986323468372575e-06\n",
            "\n",
            "Epoch number 195\n",
            " Current loss 1.7888470438265358e-06\n",
            "\n",
            "Epoch number 196\n",
            " Current loss 1.695538344392844e-06\n",
            "\n",
            "Epoch number 197\n",
            " Current loss 1.663329726397933e-06\n",
            "\n",
            "Epoch number 198\n",
            " Current loss 1.6482669025208452e-06\n",
            "\n",
            "Epoch number 199\n",
            " Current loss 1.6275046164082596e-06\n",
            "\n",
            "Best loss 1.6275046164082596e-06\n"
          ]
        },
        {
          "output_type": "display_data",
          "data": {
            "text/plain": [
              "<Figure size 432x288 with 1 Axes>"
            ],
            "image/png": "[encoded data removed]"
          },
          "metadata": {
            "needs_background": "light"
          }
        },
        {
          "output_type": "execute_result",
          "data": {
            "text/plain": [
              "<All keys matched successfully>"
            ]
          },
          "metadata": {},
          "execution_count": 57
        }
      ],
      "source": [
        "best_loss = np.inf\n",
        "loss_history = [] \n",
        "best_model_wts2 = copy.deepcopy(model2.state_dict())\n",
        "\n",
        "# Iterate throught the epochs\n",
        "for epoch in range(num_epochs):\n",
        "\n",
        "    # Iterate over batches\n",
        "#    for i, (img0, img1, label) in enumerate(train_dataloader, 0):\n",
        "\n",
        "        # Send the images and labels to CUDA\n",
        " #       img0, img1, label = img0.cuda(), img1.cuda(), label.cuda()\n",
        "  \n",
        "\n",
        "        # Zero the gradients\n",
        "        optimizer.zero_grad()\n",
        "#        print('shapes x y', x.shape, y.shape)\n",
        "        # Pass in the two images into the network and obtain two outputs\n",
        "        res = model2(x, y)\n",
        " #       print(res)\n",
        "\n",
        "        # Pass the outputs of the networks and label into the loss function\n",
        "        loss = criterion(res, matrix.flatten())\n",
        "        # Calculate the backpropagation\n",
        "        loss.backward()\n",
        "\n",
        "        # Optimize\n",
        "        optimizer.step()\n",
        "        scheduler.step() \n",
        "        # Every 10 batches print out the loss\n",
        "#        if i % 10 == 0 :\n",
        "        print(f\"Epoch number {epoch}\\n Current loss {loss.item()}\\n\")\n",
        "        #iteration_number += 10\n",
        "\n",
        "        if loss < best_loss:\n",
        "          best_loss = loss\n",
        "          best_model_wts2 = copy.deepcopy(model2.state_dict())\n",
        "\n",
        "        loss_history.append(loss.item())\n",
        "print(f'Best loss {best_loss}')\n",
        "\n",
        "plt.plot(range(num_epochs),loss_history)\n",
        "plt.show()\n",
        "model2.load_state_dict(best_model_wts2)\n"
      ]
    },
    {
      "cell_type": "code",
      "source": [
        ""
      ],
      "metadata": {
        "id": "6wn1CDHH-WMh"
      },
      "execution_count": null,
      "outputs": []
    },
    {
      "cell_type": "code",
      "source": [
        ""
      ],
      "metadata": {
        "id": "8STQ1vgqB_kF"
      },
      "execution_count": null,
      "outputs": []
    },
    {
      "cell_type": "code",
      "source": [
        ""
      ],
      "metadata": {
        "id": "rIwA0bzsCrep"
      },
      "execution_count": null,
      "outputs": []
    },
    {
      "cell_type": "code",
      "source": [
        ""
      ],
      "metadata": {
        "id": "-6uIZDLBDBSX"
      },
      "execution_count": null,
      "outputs": []
    },
    {
      "cell_type": "markdown",
      "source": [
        "### Results check"
      ],
      "metadata": {
        "id": "3kmafHkzRAUG"
      }
    },
    {
      "cell_type": "code",
      "source": [
        "#Printing the initial input and output\n",
        "print('the input')\n",
        "fig = plt.subplots(1,2)\n",
        "plt.subplot(1,2,1)\n",
        "x_to_print = x.squeeze().numpy()\n",
        "#x_to_print = x_to_print.transpose(1, 2, 0)\n",
        "plt.imshow(x_to_print[:,:,10])\n",
        "plt.subplot(1,2,2)\n",
        "y_to_print = y.squeeze().numpy()\n",
        "#y_to_print = y_to_print.transpose(1, 2, 0)\n",
        "plt.imshow(y_to_print[:,:,10])\n",
        "\n",
        "\n",
        "\n"
      ],
      "metadata": {
        "id": "orRgERYAMyxB",
        "colab": {
          "base_uri": "https://localhost:8080/",
          "height": 239
        },
        "outputId": "9314245c-c47e-4192-9e23-932569571aeb"
      },
      "execution_count": null,
      "outputs": [
        {
          "output_type": "stream",
          "name": "stdout",
          "text": [
            "the input\n"
          ]
        },
        {
          "output_type": "execute_result",
          "data": {
            "text/plain": [
              "<matplotlib.image.AxesImage at 0x7fd8fe72f0d0>"
            ]
          },
          "metadata": {},
          "execution_count": 53
        },
        {
          "output_type": "display_data",
          "data": {
            "text/plain": [
              "<Figure size 432x288 with 2 Axes>"
            ],
            "image/png": "[encoded data removed]"
          },
          "metadata": {
            "needs_background": "light"
          }
        }
      ]
    },
    {
      "cell_type": "code",
      "source": [
        "print('the output of the model')\n",
        "#model.load_state_dict(best_model_wts)\n",
        "matrix_output = model(x, y)\n",
        "\n",
        "#matrix_output = torch.tensor([ 9.2041e-01,  3.9060e-01, -4.6968e-05, -4.9798e+01, -3.9079e-01,\n",
        " #        9.2044e-01,  9.8165e-05,  7.5236e+01,  5.0508e-05, -1.2242e-04,\n",
        "  #       9.9987e-01, -2.5560e-04], requires_grad=False)\n",
        "matrix_output = matrix_output.reshape(3,4)\n",
        "mse=nn.MSELoss()\n",
        "print(f'Final MSE error: {mse(matrix, matrix_output)}')\n",
        "\n",
        "matrix_output = matrix_output.detach().numpy()\n",
        "print('Let us compare label and output of the model (we will apply resulting natrix on x_input)')\n",
        "fig = plt.subplots(1,2, figsize=(10, 5))\n",
        "plt.subplot(1,2,1)\n",
        "y_new = affine_transform(x_to_print, matrix_output)\n",
        "plt.title('The resulting model matrix applied to x_input',fontdict={'fontsize':11})\n",
        "plt.imshow(y_new[:,:,10])\n",
        "plt.subplot(1,2,2)\n",
        "plt.title('The label (y_input)', fontdict={'fontsize':11})\n",
        "plt.imshow(y_to_print[:,:,10])\n",
        "plt.show()"
      ],
      "metadata": {
        "colab": {
          "base_uri": "https://localhost:8080/",
          "height": 423
        },
        "id": "v4jaqYgvbQwe",
        "outputId": "b712e47d-0c86-454e-cb78-172682264592"
      },
      "execution_count": null,
      "outputs": [
        {
          "output_type": "stream",
          "name": "stdout",
          "text": [
            "the output of the model\n",
            "Final MSE error: 3.695887684784793e-08\n",
            "Let us compare label and output of the model (we will apply resulting natrix on x_input)\n"
          ]
        },
        {
          "output_type": "stream",
          "name": "stderr",
          "text": [
            "/usr/local/lib/python3.7/dist-packages/torch/nn/modules/loss.py:520: UserWarning: Using a target size (torch.Size([3, 4])) that is different to the input size (torch.Size([1, 3, 4])). This will likely lead to incorrect results due to broadcasting. Please ensure they have the same size.\n",
            "  return F.mse_loss(input, target, reduction=self.reduction)\n"
          ]
        },
        {
          "output_type": "display_data",
          "data": {
            "text/plain": [
              "<Figure size 720x360 with 2 Axes>"
            ],
            "image/png": "[encoded data removed]"
          },
          "metadata": {
            "needs_background": "light"
          }
        }
      ]
    },
    {
      "cell_type": "code",
      "source": [
        ""
      ],
      "metadata": {
        "id": "oL_WH7Q_SIWG"
      },
      "execution_count": null,
      "outputs": []
    },
    {
      "cell_type": "markdown",
      "source": [
        "### Model output check"
      ],
      "metadata": {
        "id": "bfm9tdyD5ltm"
      }
    },
    {
      "cell_type": "code",
      "source": [
        "#Printing the initial input and output\n",
        "print('the input')\n",
        "fig = plt.subplots(1,2)\n",
        "plt.subplot(1,2,1)\n",
        "x_to_print = x.numpy().squeeze()\n",
        "plt.imshow(x_to_print[:,:,10])\n",
        "plt.subplot(1,2,2)\n",
        "y_to_print = y.numpy().squeeze()\n",
        "plt.imshow(y_to_print[:,:,10])\n",
        "\n",
        "\n",
        "\n",
        "x.shape"
      ],
      "metadata": {
        "colab": {
          "base_uri": "https://localhost:8080/",
          "height": 239
        },
        "outputId": "00b86327-76b4-4b6a-ac24-1b0fe9a57a57",
        "id": "8GaRhq8PhEBr"
      },
      "execution_count": null,
      "outputs": [
        {
          "output_type": "stream",
          "name": "stdout",
          "text": [
            "the input\n"
          ]
        },
        {
          "output_type": "execute_result",
          "data": {
            "text/plain": [
              "torch.Size([1, 1, 320, 320, 20])"
            ]
          },
          "metadata": {},
          "execution_count": 59
        },
        {
          "output_type": "display_data",
          "data": {
            "text/plain": [
              "<Figure size 432x288 with 2 Axes>"
            ],
            "image/png": "[encoded data removed]"
          },
          "metadata": {
            "needs_background": "light"
          }
        }
      ]
    },
    {
      "cell_type": "code",
      "source": [
        "print('the output of the model')\n",
        "#model2.load_state_dict(best_model_wts2)\n",
        "matrix_output2 = model2(x, y)\n",
        "matrix_output2 = matrix_output2.reshape(3,4)\n",
        "\n",
        "mse=nn.MSELoss()\n",
        "print(f'Final MSE error: {mse(matrix.flatten().reshape(3,4), matrix_output2)}')\n",
        "\n",
        "matrix_output2 = matrix_output2.detach().numpy()\n",
        "x_new = affine.affine_transform(y_to_print, matrix_output2)\n",
        "print('Let us compare label and output of the model (we will apply resulting matrix on x_input)')\n",
        "fig = plt.subplots(1,2, figsize=(10, 5))\n",
        "plt.subplot(1,2,1)\n",
        "plt.title('The resulting model matrix applied to x_input',fontdict={'fontsize':11})\n",
        "plt.imshow(x_new[:,:,10])\n",
        "plt.subplot(1,2,2)\n",
        "plt.title('The label (y_input)', fontdict={'fontsize':11})\n",
        "plt.imshow(y_to_print[:,:,10])\n",
        "plt.show()"
      ],
      "metadata": {
        "colab": {
          "base_uri": "https://localhost:8080/",
          "height": 368
        },
        "outputId": "be786e30-5962-49b9-9da7-4ef586943edd",
        "id": "Sus6RvUUhEBs"
      },
      "execution_count": null,
      "outputs": [
        {
          "output_type": "stream",
          "name": "stdout",
          "text": [
            "the output of the model\n",
            "Final MSE error: 1.313487700826954e-07\n",
            "Let us compare label and output of the model (we will apply resulting natrix on x_input)\n"
          ]
        },
        {
          "output_type": "display_data",
          "data": {
            "text/plain": [
              "<Figure size 720x360 with 2 Axes>"
            ],
            "image/png": "[encoded data removed]"
          },
          "metadata": {
            "needs_background": "light"
          }
        }
      ]
    },
    {
      "cell_type": "code",
      "source": [
        "matrix_output2\n",
        "x_to_print"
      ],
      "metadata": {
        "id": "nOYIYhkq0j3Q",
        "colab": {
          "base_uri": "https://localhost:8080/"
        },
        "outputId": "94aee9c7-3026-4583-edcd-2a7599ba5cc1"
      },
      "execution_count": null,
      "outputs": [
        {
          "output_type": "execute_result",
          "data": {
            "text/plain": [
              "tensor([[ 9.8493e-01,  1.9222e-01, -6.4763e-04, -2.7589e+01, -1.8764e-01,\n",
              "          9.8991e-01,  2.3975e-03,  3.3471e+01, -5.6748e-03,  6.7478e-03,\n",
              "          9.8988e-01,  4.7317e-03]], grad_fn=<AddmmBackward0>)"
            ]
          },
          "metadata": {},
          "execution_count": 75
        }
      ]
    },
    {
      "cell_type": "code",
      "source": [
        "matrix"
      ],
      "metadata": {
        "colab": {
          "base_uri": "https://localhost:8080/"
        },
        "id": "cB3npav0Ug-I",
        "outputId": "3093d6e5-9e0b-4fca-824d-7f03f6f6b365"
      },
      "execution_count": null,
      "outputs": [
        {
          "output_type": "execute_result",
          "data": {
            "text/plain": [
              "tensor([[[  0.9816,   0.1908,   0.0000, -27.5898],\n",
              "         [ -0.1908,   0.9816,   0.0000,  33.4691],\n",
              "         [  0.0000,   0.0000,   1.0000,   0.0000]]])"
            ]
          },
          "metadata": {},
          "execution_count": 71
        }
      ]
    },
    {
      "cell_type": "code",
      "source": [
        "x_to_print.shape\n",
        "\n",
        "y_new2 = affine.affine_transform(x_to_print, matrix_output2.detach().numpy())"
      ],
      "metadata": {
        "id": "a9gQIVPlVRtT"
      },
      "execution_count": null,
      "outputs": []
    }
  ],
  "metadata": {
    "colab": {
      "collapsed_sections": [],
      "name": "NN_sharing_weights.ipynb",
      "provenance": [],
      "toc_visible": true,
      "include_colab_link": true
    },
    "kernelspec": {
      "display_name": "Python 3 (ipykernel)",
      "language": "python",
      "name": "python3"
    },
    "language_info": {
      "codemirror_mode": {
        "name": "ipython",
        "version": 3
      },
      "file_extension": ".py",
      "mimetype": "text/x-python",
      "name": "python",
      "nbconvert_exporter": "python",
      "pygments_lexer": "ipython3",
      "version": "3.8.12"
    },
    "accelerator": "GPU"
  },
  "nbformat": 4,
  "nbformat_minor": 0
}